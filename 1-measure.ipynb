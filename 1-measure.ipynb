{
 "cells": [
  {
   "cell_type": "code",
   "execution_count": 1,
   "id": "9b29dbfe-2d05-48e4-b5bb-565234c80373",
   "metadata": {},
   "outputs": [],
   "source": [
    "from darts.metrics import mape\n",
    "from darts import TimeSeries\n",
    "import pandas as pd\n",
    "import seaborn as sns"
   ]
  },
  {
   "cell_type": "code",
   "execution_count": 2,
   "id": "39b00c54-559d-4b8e-9896-1e2959c180be",
   "metadata": {},
   "outputs": [
    {
     "data": {
      "text/html": [
       "<div>\n",
       "<style scoped>\n",
       "    .dataframe tbody tr th:only-of-type {\n",
       "        vertical-align: middle;\n",
       "    }\n",
       "\n",
       "    .dataframe tbody tr th {\n",
       "        vertical-align: top;\n",
       "    }\n",
       "\n",
       "    .dataframe thead th {\n",
       "        text-align: right;\n",
       "    }\n",
       "</style>\n",
       "<table border=\"1\" class=\"dataframe\">\n",
       "  <thead>\n",
       "    <tr style=\"text-align: right;\">\n",
       "      <th></th>\n",
       "      <th>forecast_dt</th>\n",
       "      <th>24h_later_load</th>\n",
       "      <th>24h_later_forecast</th>\n",
       "    </tr>\n",
       "    <tr>\n",
       "      <th>datetime</th>\n",
       "      <th></th>\n",
       "      <th></th>\n",
       "      <th></th>\n",
       "    </tr>\n",
       "  </thead>\n",
       "  <tbody>\n",
       "    <tr>\n",
       "      <th>2014-12-14 00:00:00</th>\n",
       "      <td>2014-12-15 00:00:00</td>\n",
       "      <td>6131</td>\n",
       "      <td>6884</td>\n",
       "    </tr>\n",
       "    <tr>\n",
       "      <th>2014-12-14 01:00:00</th>\n",
       "      <td>2014-12-15 01:00:00</td>\n",
       "      <td>5842</td>\n",
       "      <td>7123</td>\n",
       "    </tr>\n",
       "    <tr>\n",
       "      <th>2014-12-14 02:00:00</th>\n",
       "      <td>2014-12-15 02:00:00</td>\n",
       "      <td>5715</td>\n",
       "      <td>6953</td>\n",
       "    </tr>\n",
       "  </tbody>\n",
       "</table>\n",
       "</div>"
      ],
      "text/plain": [
       "                            forecast_dt  24h_later_load  24h_later_forecast\n",
       "datetime                                                                   \n",
       "2014-12-14 00:00:00 2014-12-15 00:00:00            6131                6884\n",
       "2014-12-14 01:00:00 2014-12-15 01:00:00            5842                7123\n",
       "2014-12-14 02:00:00 2014-12-15 02:00:00            5715                6953"
      ]
     },
     "execution_count": 2,
     "metadata": {},
     "output_type": "execute_result"
    }
   ],
   "source": [
    "df = pd.read_parquet('data/silver/df.parquet')\n",
    "df.head(3)"
   ]
  },
  {
   "cell_type": "code",
   "execution_count": 3,
   "id": "e2b32e57-a6cf-4ffa-b287-ac218c7d468d",
   "metadata": {},
   "outputs": [
    {
     "name": "stdout",
     "output_type": "stream",
     "text": [
      "train:  2014-12-14 00:00:00 2024-07-31 23:00:00\n",
      "val:  2024-08-01 00:00:00 2024-09-20 09:00:00\n"
     ]
    }
   ],
   "source": [
    "# Split train:val\n",
    "datetime_cutoff = pd.Timestamp('2024-08-01')\n",
    "train_df = df[df.index < datetime_cutoff]\n",
    "val_df = df[df.index >= datetime_cutoff]\n",
    "\n",
    "print('train: ', train_df.index.min(), train_df.index.max())\n",
    "print('val: ', val_df.index.min(), val_df.index.max())"
   ]
  },
  {
   "cell_type": "code",
   "execution_count": 4,
   "id": "cb80cde7-9273-4826-9b4b-fa4d12dc6be9",
   "metadata": {},
   "outputs": [
    {
     "name": "stdout",
     "output_type": "stream",
     "text": [
      "Val MAPE:  16.871256862728487\n"
     ]
    }
   ],
   "source": [
    "# Compute officale MAPE\n",
    "val_gt_ts = TimeSeries.from_dataframe(val_df, value_cols=['24h_later_load'], freq='h')\n",
    "val_forecast_ts = TimeSeries.from_dataframe(val_df, value_cols=['24h_later_forecast'], freq='h')\n",
    "\n",
    "print('Val MAPE: ', mape(val_gt_ts, val_forecast_ts))"
   ]
  },
  {
   "cell_type": "code",
   "execution_count": null,
   "id": "39b65ce5-2aa5-4af1-8b23-5abf200eaca5",
   "metadata": {},
   "outputs": [],
   "source": []
  }
 ],
 "metadata": {
  "kernelspec": {
   "display_name": "Python 3 (ipykernel)",
   "language": "python",
   "name": "python3"
  },
  "language_info": {
   "codemirror_mode": {
    "name": "ipython",
    "version": 3
   },
   "file_extension": ".py",
   "mimetype": "text/x-python",
   "name": "python",
   "nbconvert_exporter": "python",
   "pygments_lexer": "ipython3",
   "version": "3.12.5"
  }
 },
 "nbformat": 4,
 "nbformat_minor": 5
}
