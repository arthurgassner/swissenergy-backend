{
 "cells": [
  {
   "cell_type": "code",
   "execution_count": 9,
   "id": "2654e5aa-70fd-4b70-81c9-76a13b70ea3a",
   "metadata": {},
   "outputs": [
    {
     "data": {
      "text/plain": [
       "True"
      ]
     },
     "execution_count": 9,
     "metadata": {},
     "output_type": "execute_result"
    }
   ],
   "source": [
    "from dotenv import load_dotenv\n",
    "import os\n",
    "\n",
    "load_dotenv()"
   ]
  },
  {
   "cell_type": "code",
   "execution_count": 16,
   "id": "3c625618-bf71-4dc6-91df-9938e806c98e",
   "metadata": {},
   "outputs": [
    {
     "data": {
      "text/html": [
       "<div>\n",
       "<style scoped>\n",
       "    .dataframe tbody tr th:only-of-type {\n",
       "        vertical-align: middle;\n",
       "    }\n",
       "\n",
       "    .dataframe tbody tr th {\n",
       "        vertical-align: top;\n",
       "    }\n",
       "\n",
       "    .dataframe thead th {\n",
       "        text-align: right;\n",
       "    }\n",
       "</style>\n",
       "<table border=\"1\" class=\"dataframe\">\n",
       "  <thead>\n",
       "    <tr style=\"text-align: right;\">\n",
       "      <th></th>\n",
       "      <th>Forecasted Load</th>\n",
       "      <th>Actual Load</th>\n",
       "    </tr>\n",
       "  </thead>\n",
       "  <tbody>\n",
       "    <tr>\n",
       "      <th>2024-01-01 00:00:00+01:00</th>\n",
       "      <td>7773.0</td>\n",
       "      <td>8036.0</td>\n",
       "    </tr>\n",
       "    <tr>\n",
       "      <th>2024-01-01 01:00:00+01:00</th>\n",
       "      <td>7548.0</td>\n",
       "      <td>7692.0</td>\n",
       "    </tr>\n",
       "    <tr>\n",
       "      <th>2024-01-01 02:00:00+01:00</th>\n",
       "      <td>7562.0</td>\n",
       "      <td>7867.0</td>\n",
       "    </tr>\n",
       "    <tr>\n",
       "      <th>2024-01-01 03:00:00+01:00</th>\n",
       "      <td>7640.0</td>\n",
       "      <td>7934.0</td>\n",
       "    </tr>\n",
       "    <tr>\n",
       "      <th>2024-01-01 04:00:00+01:00</th>\n",
       "      <td>7701.0</td>\n",
       "      <td>7718.0</td>\n",
       "    </tr>\n",
       "  </tbody>\n",
       "</table>\n",
       "</div>"
      ],
      "text/plain": [
       "                           Forecasted Load  Actual Load\n",
       "2024-01-01 00:00:00+01:00           7773.0       8036.0\n",
       "2024-01-01 01:00:00+01:00           7548.0       7692.0\n",
       "2024-01-01 02:00:00+01:00           7562.0       7867.0\n",
       "2024-01-01 03:00:00+01:00           7640.0       7934.0\n",
       "2024-01-01 04:00:00+01:00           7701.0       7718.0"
      ]
     },
     "execution_count": 16,
     "metadata": {},
     "output_type": "execute_result"
    }
   ],
   "source": [
    "from entsoe import EntsoePandasClient\n",
    "import pandas as pd\n",
    "\n",
    "entsoe_client = EntsoePandasClient(api_key=os.getenv('ENTSOE_API_KEY'))\n",
    "\n",
    "df = entsoe_client.query_load_and_forecast(\n",
    "    country_code=\"CH\", \n",
    "    start=pd.Timestamp('2024-01-01 00:00', tz=\"Europe/Zurich\"), \n",
    "    end=pd.Timestamp('2024-01-02 00:00', tz=\"Europe/Zurich\"),\n",
    ")\n",
    "df.head(5)"
   ]
  },
  {
   "cell_type": "code",
   "execution_count": null,
   "id": "2711b9da-40c9-4fbb-908b-61aac9bd4d9b",
   "metadata": {},
   "outputs": [],
   "source": []
  }
 ],
 "metadata": {
  "kernelspec": {
   "display_name": "Python 3 (ipykernel)",
   "language": "python",
   "name": "python3"
  },
  "language_info": {
   "codemirror_mode": {
    "name": "ipython",
    "version": 3
   },
   "file_extension": ".py",
   "mimetype": "text/x-python",
   "name": "python",
   "nbconvert_exporter": "python",
   "pygments_lexer": "ipython3",
   "version": "3.12.5"
  }
 },
 "nbformat": 4,
 "nbformat_minor": 5
}
