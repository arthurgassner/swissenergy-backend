{
 "cells": [
  {
   "cell_type": "code",
   "execution_count": 1,
   "id": "920fb701-2721-411f-abfc-ff30e64efb3e",
   "metadata": {},
   "outputs": [],
   "source": [
    "import glob\n",
    "import pandas as pd\n",
    "from datetime import datetime\n",
    "import seaborn as sns\n",
    "import matplotlib.pyplot as plt"
   ]
  },
  {
   "cell_type": "code",
   "execution_count": 2,
   "id": "32f2eea1-5040-4868-8877-e2e758989d9d",
   "metadata": {},
   "outputs": [
    {
     "data": {
      "text/html": [
       "<div>\n",
       "<style scoped>\n",
       "    .dataframe tbody tr th:only-of-type {\n",
       "        vertical-align: middle;\n",
       "    }\n",
       "\n",
       "    .dataframe tbody tr th {\n",
       "        vertical-align: top;\n",
       "    }\n",
       "\n",
       "    .dataframe thead th {\n",
       "        text-align: right;\n",
       "    }\n",
       "</style>\n",
       "<table border=\"1\" class=\"dataframe\">\n",
       "  <thead>\n",
       "    <tr style=\"text-align: right;\">\n",
       "      <th></th>\n",
       "      <th>Time (CET/CEST)</th>\n",
       "      <th>Day-ahead Total Load Forecast [MW] - BZN|CH</th>\n",
       "      <th>Actual Total Load [MW] - BZN|CH</th>\n",
       "    </tr>\n",
       "  </thead>\n",
       "  <tbody>\n",
       "    <tr>\n",
       "      <th>0</th>\n",
       "      <td>01.01.2014 00:00 - 01.01.2014 01:00</td>\n",
       "      <td>n/e</td>\n",
       "      <td>n/e</td>\n",
       "    </tr>\n",
       "    <tr>\n",
       "      <th>1</th>\n",
       "      <td>01.01.2014 01:00 - 01.01.2014 02:00</td>\n",
       "      <td>NaN</td>\n",
       "      <td>NaN</td>\n",
       "    </tr>\n",
       "    <tr>\n",
       "      <th>2</th>\n",
       "      <td>01.01.2014 02:00 - 01.01.2014 03:00</td>\n",
       "      <td>NaN</td>\n",
       "      <td>NaN</td>\n",
       "    </tr>\n",
       "  </tbody>\n",
       "</table>\n",
       "</div>"
      ],
      "text/plain": [
       "                       Time (CET/CEST)  \\\n",
       "0  01.01.2014 00:00 - 01.01.2014 01:00   \n",
       "1  01.01.2014 01:00 - 01.01.2014 02:00   \n",
       "2  01.01.2014 02:00 - 01.01.2014 03:00   \n",
       "\n",
       "  Day-ahead Total Load Forecast [MW] - BZN|CH Actual Total Load [MW] - BZN|CH  \n",
       "0                                         n/e                             n/e  \n",
       "1                                         NaN                             NaN  \n",
       "2                                         NaN                             NaN  "
      ]
     },
     "execution_count": 2,
     "metadata": {},
     "output_type": "execute_result"
    }
   ],
   "source": [
    "# Load all data\n",
    "filepaths = glob.glob('data/bronze/*')\n",
    "dfs = []\n",
    "for filepath in sorted(filepaths):\n",
    "    dfs.append(pd.read_csv(filepath))\n",
    "df = pd.concat(dfs, axis=0)\n",
    "df.head(3)"
   ]
  },
  {
   "cell_type": "code",
   "execution_count": 3,
   "id": "91f6163f-914b-4340-ba88-f656534a00c8",
   "metadata": {},
   "outputs": [
    {
     "data": {
      "text/html": [
       "<div>\n",
       "<style scoped>\n",
       "    .dataframe tbody tr th:only-of-type {\n",
       "        vertical-align: middle;\n",
       "    }\n",
       "\n",
       "    .dataframe tbody tr th {\n",
       "        vertical-align: top;\n",
       "    }\n",
       "\n",
       "    .dataframe thead th {\n",
       "        text-align: right;\n",
       "    }\n",
       "</style>\n",
       "<table border=\"1\" class=\"dataframe\">\n",
       "  <thead>\n",
       "    <tr style=\"text-align: right;\">\n",
       "      <th></th>\n",
       "      <th>time</th>\n",
       "      <th>24h_later_forecast</th>\n",
       "      <th>24h_later_load</th>\n",
       "      <th>datetime</th>\n",
       "    </tr>\n",
       "  </thead>\n",
       "  <tbody>\n",
       "    <tr>\n",
       "      <th>0</th>\n",
       "      <td>01.01.2014 00:00 - 01.01.2014 01:00</td>\n",
       "      <td>n/e</td>\n",
       "      <td>n/e</td>\n",
       "      <td>01.01.2014 00:00</td>\n",
       "    </tr>\n",
       "    <tr>\n",
       "      <th>1</th>\n",
       "      <td>01.01.2014 01:00 - 01.01.2014 02:00</td>\n",
       "      <td>NaN</td>\n",
       "      <td>NaN</td>\n",
       "      <td>01.01.2014 01:00</td>\n",
       "    </tr>\n",
       "    <tr>\n",
       "      <th>2</th>\n",
       "      <td>01.01.2014 02:00 - 01.01.2014 03:00</td>\n",
       "      <td>NaN</td>\n",
       "      <td>NaN</td>\n",
       "      <td>01.01.2014 02:00</td>\n",
       "    </tr>\n",
       "  </tbody>\n",
       "</table>\n",
       "</div>"
      ],
      "text/plain": [
       "                                  time 24h_later_forecast 24h_later_load  \\\n",
       "0  01.01.2014 00:00 - 01.01.2014 01:00                n/e            n/e   \n",
       "1  01.01.2014 01:00 - 01.01.2014 02:00                NaN            NaN   \n",
       "2  01.01.2014 02:00 - 01.01.2014 03:00                NaN            NaN   \n",
       "\n",
       "            datetime  \n",
       "0  01.01.2014 00:00   \n",
       "1  01.01.2014 01:00   \n",
       "2  01.01.2014 02:00   "
      ]
     },
     "execution_count": 3,
     "metadata": {},
     "output_type": "execute_result"
    }
   ],
   "source": [
    "# Prep shape\n",
    "df.columns = ['time', '24h_later_forecast', '24h_later_load']\n",
    "df['datetime'] = df.time.apply(lambda x: x.split('-')[0])\n",
    "df.head(3)"
   ]
  },
  {
   "cell_type": "code",
   "execution_count": 4,
   "id": "82240111-27e1-4d16-b169-e7c013170a58",
   "metadata": {},
   "outputs": [
    {
     "data": {
      "text/html": [
       "<div>\n",
       "<style scoped>\n",
       "    .dataframe tbody tr th:only-of-type {\n",
       "        vertical-align: middle;\n",
       "    }\n",
       "\n",
       "    .dataframe tbody tr th {\n",
       "        vertical-align: top;\n",
       "    }\n",
       "\n",
       "    .dataframe thead th {\n",
       "        text-align: right;\n",
       "    }\n",
       "</style>\n",
       "<table border=\"1\" class=\"dataframe\">\n",
       "  <thead>\n",
       "    <tr style=\"text-align: right;\">\n",
       "      <th></th>\n",
       "      <th>24h_later_forecast</th>\n",
       "      <th>24h_later_load</th>\n",
       "      <th>forecast_dt</th>\n",
       "    </tr>\n",
       "  </thead>\n",
       "  <tbody>\n",
       "    <tr>\n",
       "      <th>0</th>\n",
       "      <td>n/e</td>\n",
       "      <td>n/e</td>\n",
       "      <td>2014-01-01 00:00:00</td>\n",
       "    </tr>\n",
       "    <tr>\n",
       "      <th>1</th>\n",
       "      <td>NaN</td>\n",
       "      <td>NaN</td>\n",
       "      <td>2014-01-01 01:00:00</td>\n",
       "    </tr>\n",
       "    <tr>\n",
       "      <th>2</th>\n",
       "      <td>NaN</td>\n",
       "      <td>NaN</td>\n",
       "      <td>2014-01-01 02:00:00</td>\n",
       "    </tr>\n",
       "  </tbody>\n",
       "</table>\n",
       "</div>"
      ],
      "text/plain": [
       "  24h_later_forecast 24h_later_load         forecast_dt\n",
       "0                n/e            n/e 2014-01-01 00:00:00\n",
       "1                NaN            NaN 2014-01-01 01:00:00\n",
       "2                NaN            NaN 2014-01-01 02:00:00"
      ]
     },
     "execution_count": 4,
     "metadata": {},
     "output_type": "execute_result"
    }
   ],
   "source": [
    "# Extract datetime\n",
    "df['forecast_dt'] = df.datetime.apply(lambda x: datetime.strptime(x.strip(), '%d.%m.%Y %H:%M'))\n",
    "df = df.drop(columns=['time', 'datetime'])\n",
    "df.head(3)"
   ]
  },
  {
   "cell_type": "code",
   "execution_count": 5,
   "id": "4ee121d4-a1ef-4ea9-9df7-045e63106749",
   "metadata": {},
   "outputs": [
    {
     "data": {
      "text/html": [
       "<div>\n",
       "<style scoped>\n",
       "    .dataframe tbody tr th:only-of-type {\n",
       "        vertical-align: middle;\n",
       "    }\n",
       "\n",
       "    .dataframe tbody tr th {\n",
       "        vertical-align: top;\n",
       "    }\n",
       "\n",
       "    .dataframe thead th {\n",
       "        text-align: right;\n",
       "    }\n",
       "</style>\n",
       "<table border=\"1\" class=\"dataframe\">\n",
       "  <thead>\n",
       "    <tr style=\"text-align: right;\">\n",
       "      <th></th>\n",
       "      <th>24h_later_forecast</th>\n",
       "      <th>24h_later_load</th>\n",
       "      <th>forecast_dt</th>\n",
       "      <th>datetime</th>\n",
       "    </tr>\n",
       "  </thead>\n",
       "  <tbody>\n",
       "    <tr>\n",
       "      <th>0</th>\n",
       "      <td>n/e</td>\n",
       "      <td>n/e</td>\n",
       "      <td>2014-01-01 00:00:00</td>\n",
       "      <td>2013-12-31 00:00:00</td>\n",
       "    </tr>\n",
       "    <tr>\n",
       "      <th>1</th>\n",
       "      <td>NaN</td>\n",
       "      <td>NaN</td>\n",
       "      <td>2014-01-01 01:00:00</td>\n",
       "      <td>2013-12-31 01:00:00</td>\n",
       "    </tr>\n",
       "    <tr>\n",
       "      <th>2</th>\n",
       "      <td>NaN</td>\n",
       "      <td>NaN</td>\n",
       "      <td>2014-01-01 02:00:00</td>\n",
       "      <td>2013-12-31 02:00:00</td>\n",
       "    </tr>\n",
       "  </tbody>\n",
       "</table>\n",
       "</div>"
      ],
      "text/plain": [
       "  24h_later_forecast 24h_later_load         forecast_dt            datetime\n",
       "0                n/e            n/e 2014-01-01 00:00:00 2013-12-31 00:00:00\n",
       "1                NaN            NaN 2014-01-01 01:00:00 2013-12-31 01:00:00\n",
       "2                NaN            NaN 2014-01-01 02:00:00 2013-12-31 02:00:00"
      ]
     },
     "execution_count": 5,
     "metadata": {},
     "output_type": "execute_result"
    }
   ],
   "source": [
    "# Add datetime corresponding to knowledge cutoff\n",
    "df['datetime'] = df.forecast_dt - pd.Timedelta(1, 'd')\n",
    "df.head(3)"
   ]
  },
  {
   "cell_type": "code",
   "execution_count": 6,
   "id": "de78df30-9c48-4a73-9b49-88500cbf0e6d",
   "metadata": {},
   "outputs": [
    {
     "data": {
      "text/plain": [
       "24h_later_forecast    0\n",
       "24h_later_load        0\n",
       "forecast_dt           0\n",
       "datetime              0\n",
       "dtype: int64"
      ]
     },
     "execution_count": 6,
     "metadata": {},
     "output_type": "execute_result"
    }
   ],
   "source": [
    "# Drop NaN\n",
    "mask = df['24h_later_forecast'].isin(['-', 'n/e']) | df['24h_later_load'].isin(['-', 'n/e']) \n",
    "df[mask] = None\n",
    "df = df.dropna()\n",
    "df.isna().sum()"
   ]
  },
  {
   "cell_type": "code",
   "execution_count": 7,
   "id": "2cf331b5-eae5-4c2b-a428-11ca58e24205",
   "metadata": {},
   "outputs": [
    {
     "data": {
      "text/plain": [
       "24h_later_forecast           float64\n",
       "24h_later_load               float64\n",
       "forecast_dt           datetime64[ns]\n",
       "datetime              datetime64[ns]\n",
       "dtype: object"
      ]
     },
     "execution_count": 7,
     "metadata": {},
     "output_type": "execute_result"
    }
   ],
   "source": [
    "# Check dtypes\n",
    "df['24h_later_forecast'] = df['24h_later_forecast'].astype(float)\n",
    "df['24h_later_load'] = df['24h_later_load'].astype(float)\n",
    "df.dtypes"
   ]
  },
  {
   "cell_type": "code",
   "execution_count": 8,
   "id": "101bb6f7-1d3c-4ecc-be97-74e059466582",
   "metadata": {},
   "outputs": [
    {
     "data": {
      "text/plain": [
       "24h_later_forecast             int64\n",
       "24h_later_load                 int64\n",
       "forecast_dt           datetime64[ns]\n",
       "datetime              datetime64[ns]\n",
       "dtype: object"
      ]
     },
     "execution_count": 8,
     "metadata": {},
     "output_type": "execute_result"
    }
   ],
   "source": [
    "# Notice how forecast and load are int --> cast to int\n",
    "assert df['24h_later_load'].apply(lambda x: int(x) == float(x)).all()\n",
    "assert df['24h_later_forecast'].apply(lambda x: int(x) == float(x)).all()\n",
    "\n",
    "df['24h_later_load'] = df['24h_later_load'].astype(int)\n",
    "df['24h_later_forecast'] = df['24h_later_forecast'].astype(int)\n",
    "\n",
    "df.dtypes"
   ]
  },
  {
   "cell_type": "code",
   "execution_count": 9,
   "id": "2d34cb1e-7525-4157-887a-e3e11ccdb542",
   "metadata": {},
   "outputs": [
    {
     "data": {
      "text/html": [
       "<div>\n",
       "<style scoped>\n",
       "    .dataframe tbody tr th:only-of-type {\n",
       "        vertical-align: middle;\n",
       "    }\n",
       "\n",
       "    .dataframe tbody tr th {\n",
       "        vertical-align: top;\n",
       "    }\n",
       "\n",
       "    .dataframe thead th {\n",
       "        text-align: right;\n",
       "    }\n",
       "</style>\n",
       "<table border=\"1\" class=\"dataframe\">\n",
       "  <thead>\n",
       "    <tr style=\"text-align: right;\">\n",
       "      <th></th>\n",
       "      <th>datetime</th>\n",
       "      <th>24h_later_forecast</th>\n",
       "      <th>24h_later_load</th>\n",
       "      <th>forecast_dt</th>\n",
       "    </tr>\n",
       "  </thead>\n",
       "  <tbody>\n",
       "    <tr>\n",
       "      <th>0</th>\n",
       "      <td>2014-12-14 00:00:00</td>\n",
       "      <td>6884</td>\n",
       "      <td>6131</td>\n",
       "      <td>2014-12-15 00:00:00</td>\n",
       "    </tr>\n",
       "    <tr>\n",
       "      <th>1</th>\n",
       "      <td>2014-12-14 01:00:00</td>\n",
       "      <td>7123</td>\n",
       "      <td>5842</td>\n",
       "      <td>2014-12-15 01:00:00</td>\n",
       "    </tr>\n",
       "    <tr>\n",
       "      <th>2</th>\n",
       "      <td>2014-12-14 02:00:00</td>\n",
       "      <td>6953</td>\n",
       "      <td>5715</td>\n",
       "      <td>2014-12-15 02:00:00</td>\n",
       "    </tr>\n",
       "  </tbody>\n",
       "</table>\n",
       "</div>"
      ],
      "text/plain": [
       "             datetime  24h_later_forecast  24h_later_load         forecast_dt\n",
       "0 2014-12-14 00:00:00                6884            6131 2014-12-15 00:00:00\n",
       "1 2014-12-14 01:00:00                7123            5842 2014-12-15 01:00:00\n",
       "2 2014-12-14 02:00:00                6953            5715 2014-12-15 02:00:00"
      ]
     },
     "execution_count": 9,
     "metadata": {},
     "output_type": "execute_result"
    }
   ],
   "source": [
    "# Notice how datetime isn't unique.\n",
    "# It isn't clear why. \n",
    "# For now, take the median and aggregate\n",
    "assert not df.datetime.is_unique\n",
    "\n",
    "df = df.groupby('datetime').median().reset_index()\n",
    "df['24h_later_forecast'] = df['24h_later_forecast'].astype(int)\n",
    "df['24h_later_load'] = df['24h_later_load'].astype(int)\n",
    "\n",
    "assert df.datetime.is_unique\n",
    "\n",
    "df.head(3)"
   ]
  },
  {
   "cell_type": "code",
   "execution_count": 10,
   "id": "c51d818b-1259-4923-b2f2-95d211123c6f",
   "metadata": {},
   "outputs": [
    {
     "data": {
      "text/html": [
       "<div>\n",
       "<style scoped>\n",
       "    .dataframe tbody tr th:only-of-type {\n",
       "        vertical-align: middle;\n",
       "    }\n",
       "\n",
       "    .dataframe tbody tr th {\n",
       "        vertical-align: top;\n",
       "    }\n",
       "\n",
       "    .dataframe thead th {\n",
       "        text-align: right;\n",
       "    }\n",
       "</style>\n",
       "<table border=\"1\" class=\"dataframe\">\n",
       "  <thead>\n",
       "    <tr style=\"text-align: right;\">\n",
       "      <th></th>\n",
       "      <th>forecast_dt</th>\n",
       "      <th>24h_later_load</th>\n",
       "      <th>24h_later_forecast</th>\n",
       "    </tr>\n",
       "    <tr>\n",
       "      <th>datetime</th>\n",
       "      <th></th>\n",
       "      <th></th>\n",
       "      <th></th>\n",
       "    </tr>\n",
       "  </thead>\n",
       "  <tbody>\n",
       "    <tr>\n",
       "      <th>2014-12-14 00:00:00</th>\n",
       "      <td>2014-12-15 00:00:00</td>\n",
       "      <td>6131</td>\n",
       "      <td>6884</td>\n",
       "    </tr>\n",
       "    <tr>\n",
       "      <th>2014-12-14 01:00:00</th>\n",
       "      <td>2014-12-15 01:00:00</td>\n",
       "      <td>5842</td>\n",
       "      <td>7123</td>\n",
       "    </tr>\n",
       "    <tr>\n",
       "      <th>2014-12-14 02:00:00</th>\n",
       "      <td>2014-12-15 02:00:00</td>\n",
       "      <td>5715</td>\n",
       "      <td>6953</td>\n",
       "    </tr>\n",
       "  </tbody>\n",
       "</table>\n",
       "</div>"
      ],
      "text/plain": [
       "                            forecast_dt  24h_later_load  24h_later_forecast\n",
       "datetime                                                                   \n",
       "2014-12-14 00:00:00 2014-12-15 00:00:00            6131                6884\n",
       "2014-12-14 01:00:00 2014-12-15 01:00:00            5842                7123\n",
       "2014-12-14 02:00:00 2014-12-15 02:00:00            5715                6953"
      ]
     },
     "execution_count": 10,
     "metadata": {},
     "output_type": "execute_result"
    }
   ],
   "source": [
    "# Sort and reindex\n",
    "df = df.sort_values('datetime')\n",
    "df = df.set_index('datetime')\n",
    "df = df[['forecast_dt', '24h_later_load', '24h_later_forecast']]\n",
    "df.head(3)"
   ]
  },
  {
   "cell_type": "code",
   "execution_count": 12,
   "id": "77906f27-c21f-4d24-9d01-a112feffb023",
   "metadata": {},
   "outputs": [
    {
     "data": {
      "text/plain": [
       "<Axes: xlabel='datetime', ylabel='24h_later_load'>"
      ]
     },
     "execution_count": 12,
     "metadata": {},
     "output_type": "execute_result"
    },
    {
     "data": {
      "image/png": "[encoded data removed]",
      "text/plain": [
       "<Figure size 1500x400 with 1 Axes>"
      ]
     },
     "metadata": {},
     "output_type": "display_data"
    }
   ],
   "source": [
    "plt.figure(figsize=(15,4))\n",
    "sns.lineplot(x=df.index, y='24h_later_load', data=df)\n",
    "sns.lineplot(x=df.index, y='24h_later_forecast', data=df)"
   ]
  },
  {
   "cell_type": "code",
   "execution_count": 13,
   "id": "bf12e33d-fba1-48f0-8e59-44a030f0c4bf",
   "metadata": {},
   "outputs": [],
   "source": [
    "# Dump\n",
    "df.to_parquet('data/silver/df.parquet')"
   ]
  },
  {
   "cell_type": "code",
   "execution_count": null,
   "id": "b49a747e-48f5-4759-b9f2-4460dada05c6",
   "metadata": {},
   "outputs": [],
   "source": []
  }
 ],
 "metadata": {
  "kernelspec": {
   "display_name": "Python 3 (ipykernel)",
   "language": "python",
   "name": "python3"
  },
  "language_info": {
   "codemirror_mode": {
    "name": "ipython",
    "version": 3
   },
   "file_extension": ".py",
   "mimetype": "text/x-python",
   "name": "python",
   "nbconvert_exporter": "python",
   "pygments_lexer": "ipython3",
   "version": "3.12.5"
  }
 },
 "nbformat": 4,
 "nbformat_minor": 5
}
