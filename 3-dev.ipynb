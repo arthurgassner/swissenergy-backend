{
 "cells": [
  {
   "cell_type": "code",
   "execution_count": 1,
   "id": "db724e17-acc9-4a8a-bd57-ab7b498af498",
   "metadata": {},
   "outputs": [],
   "source": [
    "import pandas as pd"
   ]
  },
  {
   "cell_type": "code",
   "execution_count": null,
   "id": "5038b43e-b0a7-4d6e-a14d-1c16f39e00a2",
   "metadata": {},
   "outputs": [],
   "source": [
    "class LGBMForecaster:\n",
    "    def __init__():\n",
    "        pass\n",
    "\n"
   ]
  }
 ],
 "metadata": {
  "kernelspec": {
   "display_name": "Python 3 (ipykernel)",
   "language": "python",
   "name": "python3"
  },
  "language_info": {
   "codemirror_mode": {
    "name": "ipython",
    "version": 3
   },
   "file_extension": ".py",
   "mimetype": "text/x-python",
   "name": "python",
   "nbconvert_exporter": "python",
   "pygments_lexer": "ipython3",
   "version": "3.12.5"
  }
 },
 "nbformat": 4,
 "nbformat_minor": 5
}
