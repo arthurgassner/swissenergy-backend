{
 "cells": [
  {
   "cell_type": "code",
   "execution_count": 1,
   "id": "70ddc68f-c4f5-4671-b634-6747451de4cd",
   "metadata": {},
   "outputs": [
    {
     "data": {
      "text/plain": [
       "True"
      ]
     },
     "execution_count": 1,
     "metadata": {},
     "output_type": "execute_result"
    }
   ],
   "source": [
    "from data_loader import DataLoader\n",
    "from data_cleaner import DataCleaner\n",
    "from feature_extractor import FeatureExtractor\n",
    "\n",
    "from dotenv import load_dotenv\n",
    "import os\n",
    "load_dotenv(dotenv_path='nb-prod/.env')"
   ]
  },
  {
   "cell_type": "code",
   "execution_count": 2,
   "id": "bc767a09-8103-4f58-82f3-7d46f400806c",
   "metadata": {},
   "outputs": [
    {
     "name": "stdout",
     "output_type": "stream",
     "text": [
      "No data available between 2024-09-29 11:01:00+02:00 -> 2024-09-29 12:10:15.144990+02:00\n"
     ]
    }
   ],
   "source": [
    "data_loader = DataLoader(enstoe_api_key=os.getenv('ENTSOE_API_KEY'))\n",
    "data_loader.update_df(out_df_filepath=\"data/bronze/df.parquet\")"
   ]
  },
  {
   "cell_type": "code",
   "execution_count": 3,
   "id": "794a96c4-1f4c-4ae1-a70f-4545e2da9a5f",
   "metadata": {},
   "outputs": [],
   "source": [
    "DataCleaner.clean(\n",
    "    in_df_filepath='data/bronze/df.parquet',\n",
    "    out_df_filepath='data/silver/df.parquet',\n",
    ")"
   ]
  },
  {
   "cell_type": "code",
   "execution_count": null,
   "id": "1f760fcb-1b67-48c5-adbb-863700a3c4c4",
   "metadata": {},
   "outputs": [],
   "source": [
    "FeatureExtractor.extract_features(\n",
    "    in_df_filepath='data/silver/df.parquet',\n",
    "    out_df_filepath='data/gold/df.parquet',\n",
    ")"
   ]
  },
  {
   "cell_type": "code",
   "execution_count": null,
   "id": "5f285d11-4959-414a-a780-14553d947a50",
   "metadata": {},
   "outputs": [],
   "source": []
  }
 ],
 "metadata": {
  "kernelspec": {
   "display_name": "Python 3 (ipykernel)",
   "language": "python",
   "name": "python3"
  },
  "language_info": {
   "codemirror_mode": {
    "name": "ipython",
    "version": 3
   },
   "file_extension": ".py",
   "mimetype": "text/x-python",
   "name": "python",
   "nbconvert_exporter": "python",
   "pygments_lexer": "ipython3",
   "version": "3.12.5"
  }
 },
 "nbformat": 4,
 "nbformat_minor": 5
}
