{
 "cells": [
  {
   "cell_type": "code",
   "execution_count": 1,
   "id": "70ddc68f-c4f5-4671-b634-6747451de4cd",
   "metadata": {},
   "outputs": [
    {
     "data": {
      "text/plain": [
       "True"
      ]
     },
     "execution_count": 1,
     "metadata": {},
     "output_type": "execute_result"
    }
   ],
   "source": [
    "from data_loader import DataLoader\n",
    "from data_cleaner import DataCleaner\n",
    "from feature_extractor import FeatureExtractor\n",
    "from model_trainer import ModelTrainer\n",
    "from inferencer import Inferencer\n",
    "\n",
    "from datetime import datetime\n",
    "import joblib\n",
    "from dotenv import load_dotenv\n",
    "import os\n",
    "import pandas as pd\n",
    "load_dotenv(dotenv_path='nb-prod/.env')"
   ]
  },
  {
   "cell_type": "code",
   "execution_count": 2,
   "id": "bc767a09-8103-4f58-82f3-7d46f400806c",
   "metadata": {},
   "outputs": [
    {
     "name": "stdout",
     "output_type": "stream",
     "text": [
      "No data available between 2024-09-29 11:01:00+02:00 -> 2024-09-29 12:46:28.902130+02:00\n"
     ]
    }
   ],
   "source": [
    "data_loader = DataLoader(enstoe_api_key=os.getenv('ENTSOE_API_KEY'))\n",
    "data_loader.update_df(out_df_filepath=\"data/bronze/df.parquet\")"
   ]
  },
  {
   "cell_type": "code",
   "execution_count": 3,
   "id": "794a96c4-1f4c-4ae1-a70f-4545e2da9a5f",
   "metadata": {},
   "outputs": [],
   "source": [
    "DataCleaner.clean(\n",
    "    in_df_filepath='data/bronze/df.parquet',\n",
    "    out_df_filepath='data/silver/df.parquet',\n",
    ")"
   ]
  },
  {
   "cell_type": "code",
   "execution_count": 4,
   "id": "1f760fcb-1b67-48c5-adbb-863700a3c4c4",
   "metadata": {},
   "outputs": [],
   "source": [
    "FeatureExtractor.extract_features(\n",
    "    in_df_filepath='data/silver/df.parquet',\n",
    "    out_df_filepath='data/gold/df.parquet',\n",
    ")"
   ]
  },
  {
   "cell_type": "code",
   "execution_count": 7,
   "id": "5f285d11-4959-414a-a780-14553d947a50",
   "metadata": {},
   "outputs": [
    {
     "name": "stderr",
     "output_type": "stream",
     "text": [
      "100%|█████████████████████████████████████████████| 7/7 [00:02<00:00,  3.39it/s]"
     ]
    },
    {
     "name": "stdout",
     "output_type": "stream",
     "text": [
      "Backtested MAPE: 5.35%\n"
     ]
    },
    {
     "name": "stderr",
     "output_type": "stream",
     "text": [
      "\n"
     ]
    }
   ],
   "source": [
    "reg = ModelTrainer.fit(n_estimators=100)\n",
    "results_df, mape = ModelTrainer.backtest(\n",
    "    Xy_filepath='data/gold/df.parquet',\n",
    "    model=reg,\n",
    "    starting_ts=pd.Timestamp(datetime.now() - pd.Timedelta(30, 'd'), tz='Europe/Zurich'),\n",
    "    use_every_nth_ts=100,\n",
    ")\n",
    "joblib.dump(reg, 'model.joblib')\n",
    "print(f'Backtested MAPE: {mape:.2f}%')"
   ]
  },
  {
   "cell_type": "code",
   "execution_count": 8,
   "id": "a73d6d58-460d-4cef-95a5-ccbfc264c3dc",
   "metadata": {},
   "outputs": [
    {
     "data": {
      "text/html": [
       "<div>\n",
       "<style scoped>\n",
       "    .dataframe tbody tr th:only-of-type {\n",
       "        vertical-align: middle;\n",
       "    }\n",
       "\n",
       "    .dataframe tbody tr th {\n",
       "        vertical-align: top;\n",
       "    }\n",
       "\n",
       "    .dataframe thead th {\n",
       "        text-align: right;\n",
       "    }\n",
       "</style>\n",
       "<table border=\"1\" class=\"dataframe\">\n",
       "  <thead>\n",
       "    <tr style=\"text-align: right;\">\n",
       "      <th></th>\n",
       "      <th>predicted_24h_later_load</th>\n",
       "    </tr>\n",
       "  </thead>\n",
       "  <tbody>\n",
       "    <tr>\n",
       "      <th>2024-09-27 11:00:00+02:00</th>\n",
       "      <td>6778.003858</td>\n",
       "    </tr>\n",
       "    <tr>\n",
       "      <th>2024-09-27 12:00:00+02:00</th>\n",
       "      <td>6936.409836</td>\n",
       "    </tr>\n",
       "    <tr>\n",
       "      <th>2024-09-27 13:00:00+02:00</th>\n",
       "      <td>6945.083698</td>\n",
       "    </tr>\n",
       "  </tbody>\n",
       "</table>\n",
       "</div>"
      ],
      "text/plain": [
       "                           predicted_24h_later_load\n",
       "2024-09-27 11:00:00+02:00               6778.003858\n",
       "2024-09-27 12:00:00+02:00               6936.409836\n",
       "2024-09-27 13:00:00+02:00               6945.083698"
      ]
     },
     "execution_count": 8,
     "metadata": {},
     "output_type": "execute_result"
    }
   ],
   "source": [
    "inferencer = Inferencer(model_filepath='model.joblib')\n",
    "yhat = inferencer.predict(in_df_filepath='data/gold/df.parquet')\n",
    "yhat.head(3)"
   ]
  },
  {
   "cell_type": "code",
   "execution_count": null,
   "id": "57b0e914-5f21-450a-96a6-66b8ff18c090",
   "metadata": {},
   "outputs": [],
   "source": []
  }
 ],
 "metadata": {
  "kernelspec": {
   "display_name": "Python 3 (ipykernel)",
   "language": "python",
   "name": "python3"
  },
  "language_info": {
   "codemirror_mode": {
    "name": "ipython",
    "version": 3
   },
   "file_extension": ".py",
   "mimetype": "text/x-python",
   "name": "python",
   "nbconvert_exporter": "python",
   "pygments_lexer": "ipython3",
   "version": "3.12.5"
  }
 },
 "nbformat": 4,
 "nbformat_minor": 5
}
