{
 "cells": [
  {
   "cell_type": "markdown",
   "id": "a9c619e0-a3d5-43dc-81fa-18972bb93426",
   "metadata": {},
   "source": [
    "# Data cleaning"
   ]
  },
  {
   "cell_type": "code",
   "execution_count": 84,
   "id": "db1ed3c9-ecfd-489b-b05b-08b764248d00",
   "metadata": {},
   "outputs": [],
   "source": [
    "import pandas as pd"
   ]
  },
  {
   "cell_type": "code",
   "execution_count": 85,
   "id": "2414858f-93b6-42b5-98bb-96be86e5cfbb",
   "metadata": {},
   "outputs": [
    {
     "data": {
      "text/html": [
       "<div>\n",
       "<style scoped>\n",
       "    .dataframe tbody tr th:only-of-type {\n",
       "        vertical-align: middle;\n",
       "    }\n",
       "\n",
       "    .dataframe tbody tr th {\n",
       "        vertical-align: top;\n",
       "    }\n",
       "\n",
       "    .dataframe thead th {\n",
       "        text-align: right;\n",
       "    }\n",
       "</style>\n",
       "<table border=\"1\" class=\"dataframe\">\n",
       "  <thead>\n",
       "    <tr style=\"text-align: right;\">\n",
       "      <th></th>\n",
       "      <th>Forecasted Load</th>\n",
       "      <th>Actual Load</th>\n",
       "    </tr>\n",
       "  </thead>\n",
       "  <tbody>\n",
       "    <tr>\n",
       "      <th>2014-10-24 00:00:00+02:00</th>\n",
       "      <td>NaN</td>\n",
       "      <td>6522.0</td>\n",
       "    </tr>\n",
       "    <tr>\n",
       "      <th>2014-10-24 01:00:00+02:00</th>\n",
       "      <td>NaN</td>\n",
       "      <td>6342.0</td>\n",
       "    </tr>\n",
       "    <tr>\n",
       "      <th>2014-10-24 02:00:00+02:00</th>\n",
       "      <td>NaN</td>\n",
       "      <td>6269.0</td>\n",
       "    </tr>\n",
       "  </tbody>\n",
       "</table>\n",
       "</div>"
      ],
      "text/plain": [
       "                           Forecasted Load  Actual Load\n",
       "2014-10-24 00:00:00+02:00              NaN       6522.0\n",
       "2014-10-24 01:00:00+02:00              NaN       6342.0\n",
       "2014-10-24 02:00:00+02:00              NaN       6269.0"
      ]
     },
     "execution_count": 85,
     "metadata": {},
     "output_type": "execute_result"
    }
   ],
   "source": [
    "# Load bronze data\n",
    "df = pd.read_parquet('data/bronze/df.parquet')\n",
    "df.head(3)"
   ]
  },
  {
   "cell_type": "code",
   "execution_count": 86,
   "id": "27523465-e8ad-4197-a052-138252da1172",
   "metadata": {
    "scrolled": true
   },
   "outputs": [
    {
     "data": {
      "text/html": [
       "<div>\n",
       "<style scoped>\n",
       "    .dataframe tbody tr th:only-of-type {\n",
       "        vertical-align: middle;\n",
       "    }\n",
       "\n",
       "    .dataframe tbody tr th {\n",
       "        vertical-align: top;\n",
       "    }\n",
       "\n",
       "    .dataframe thead th {\n",
       "        text-align: right;\n",
       "    }\n",
       "</style>\n",
       "<table border=\"1\" class=\"dataframe\">\n",
       "  <thead>\n",
       "    <tr style=\"text-align: right;\">\n",
       "      <th></th>\n",
       "      <th>24h_later_forecast</th>\n",
       "      <th>24h_later_load</th>\n",
       "    </tr>\n",
       "  </thead>\n",
       "  <tbody>\n",
       "    <tr>\n",
       "      <th>2014-10-23 00:00:00+02:00</th>\n",
       "      <td>NaN</td>\n",
       "      <td>6522.0</td>\n",
       "    </tr>\n",
       "    <tr>\n",
       "      <th>2014-10-23 01:00:00+02:00</th>\n",
       "      <td>NaN</td>\n",
       "      <td>6342.0</td>\n",
       "    </tr>\n",
       "    <tr>\n",
       "      <th>2014-10-23 02:00:00+02:00</th>\n",
       "      <td>NaN</td>\n",
       "      <td>6269.0</td>\n",
       "    </tr>\n",
       "  </tbody>\n",
       "</table>\n",
       "</div>"
      ],
      "text/plain": [
       "                           24h_later_forecast  24h_later_load\n",
       "2014-10-23 00:00:00+02:00                 NaN          6522.0\n",
       "2014-10-23 01:00:00+02:00                 NaN          6342.0\n",
       "2014-10-23 02:00:00+02:00                 NaN          6269.0"
      ]
     },
     "execution_count": 86,
     "metadata": {},
     "output_type": "execute_result"
    }
   ],
   "source": [
    "# Currently, the timestamp correponds to \"in the next hour, this is the load\"\n",
    "# whereas we want it to mean \"the load 24h from this timestamp is\"\n",
    "# Modify it so it fits\n",
    "df = df.set_index(df.index.to_series().apply(lambda x: x - pd.Timedelta(1, 'd'))) # Update the index\n",
    "df = df.rename(columns={ # rename the columns to reflect the new index\n",
    "    'Forecasted Load': '24h_later_forecast',\n",
    "    'Actual Load': '24h_later_load',\n",
    "})\n",
    "df.head(3)"
   ]
  },
  {
   "cell_type": "code",
   "execution_count": 87,
   "id": "a8f9066b-d2a2-4f66-8653-400a0256102b",
   "metadata": {},
   "outputs": [
    {
     "name": "stdout",
     "output_type": "stream",
     "text": [
      "Data range: 2014-10-23 00:00:00+02:00 -> 2024-09-27 16:00:00+02:00\n"
     ]
    }
   ],
   "source": [
    "# We should not drop NaNs\n",
    "# Missing data means we might not have the load in 24h, but we could have it right now\n",
    "df.isna().sum()\n",
    "print(f\"Data range: {df.index.min()} -> {df.index.max()}\")"
   ]
  },
  {
   "cell_type": "code",
   "execution_count": 88,
   "id": "38d5e302-2e01-43f8-a768-2d883ef68db1",
   "metadata": {},
   "outputs": [],
   "source": [
    "# Dump to silver\n",
    "df.to_parquet('data/silver/df.parquet')"
   ]
  },
  {
   "cell_type": "code",
   "execution_count": null,
   "id": "6f4e8f5e-c3b5-4088-8777-862065301419",
   "metadata": {},
   "outputs": [],
   "source": []
  }
 ],
 "metadata": {
  "kernelspec": {
   "display_name": "Python 3 (ipykernel)",
   "language": "python",
   "name": "python3"
  },
  "language_info": {
   "codemirror_mode": {
    "name": "ipython",
    "version": 3
   },
   "file_extension": ".py",
   "mimetype": "text/x-python",
   "name": "python",
   "nbconvert_exporter": "python",
   "pygments_lexer": "ipython3",
   "version": "3.12.5"
  }
 },
 "nbformat": 4,
 "nbformat_minor": 5
}
