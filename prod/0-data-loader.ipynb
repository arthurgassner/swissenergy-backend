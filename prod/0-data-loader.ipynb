{
 "cells": [
  {
   "cell_type": "markdown",
   "id": "a0aa002a-75d4-4418-81bd-50e885672442",
   "metadata": {},
   "source": [
    "# Data loader"
   ]
  },
  {
   "cell_type": "code",
   "execution_count": 1,
   "id": "ced6f63b-27cc-4160-a12e-e614f819afd1",
   "metadata": {},
   "outputs": [],
   "source": [
    "# TODO \n",
    "# Load data from REST API onto disk -- only DL the new data"
   ]
  },
  {
   "cell_type": "code",
   "execution_count": 1,
   "id": "e95e4c95-0a64-43a8-979c-8a4b302062f4",
   "metadata": {},
   "outputs": [],
   "source": [
    "from entsoe import EntsoePandasClient"
   ]
  },
  {
   "cell_type": "code",
   "execution_count": 2,
   "id": "9de3aa24-43d5-4eef-97fd-36f5161b938e",
   "metadata": {},
   "outputs": [
    {
     "ename": "SyntaxError",
     "evalue": "invalid syntax (3218539740.py, line 1)",
     "output_type": "error",
     "traceback": [
      "\u001b[0;36m  Cell \u001b[0;32mIn[2], line 1\u001b[0;36m\u001b[0m\n\u001b[0;31m    client = EntsoePandasClient(api_key=<YOUR API KEY>)\u001b[0m\n\u001b[0m                                        ^\u001b[0m\n\u001b[0;31mSyntaxError\u001b[0m\u001b[0;31m:\u001b[0m invalid syntax\n"
     ]
    }
   ],
   "source": [
    "client = EntsoePandasClient(api_key=<YOUR API KEY>)\n",
    "\n",
    "start = pd.Timestamp('20171201', tz='Europe/Brussels')\n",
    "end = pd.Timestamp('20180101', tz='Europe/Brussels')\n",
    "country_code = 'CH' \n",
    "type_marketagreement_type = 'A01'\n",
    "contract_marketagreement_type = \"A01\"\n",
    "process_type = 'A51'"
   ]
  },
  {
   "cell_type": "code",
   "execution_count": null,
   "id": "179ec705-227f-4a18-8029-2e0a2dd43666",
   "metadata": {},
   "outputs": [],
   "source": [
    "client.query_load_and_forecast(country_code, start=start, end=end)"
   ]
  }
 ],
 "metadata": {
  "kernelspec": {
   "display_name": "Python 3 (ipykernel)",
   "language": "python",
   "name": "python3"
  },
  "language_info": {
   "codemirror_mode": {
    "name": "ipython",
    "version": 3
   },
   "file_extension": ".py",
   "mimetype": "text/x-python",
   "name": "python",
   "nbconvert_exporter": "python",
   "pygments_lexer": "ipython3",
   "version": "3.12.5"
  }
 },
 "nbformat": 4,
 "nbformat_minor": 5
}
