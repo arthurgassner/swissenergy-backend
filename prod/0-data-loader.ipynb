{
 "cells": [
  {
   "cell_type": "markdown",
   "id": "a0aa002a-75d4-4418-81bd-50e885672442",
   "metadata": {},
   "source": [
    "# Data loader"
   ]
  },
  {
   "cell_type": "code",
   "execution_count": 1,
   "id": "ced6f63b-27cc-4160-a12e-e614f819afd1",
   "metadata": {},
   "outputs": [],
   "source": [
    "# TODO \n",
    "# Load data from REST API onto disk -- only DL the new data"
   ]
  },
  {
   "cell_type": "code",
   "execution_count": null,
   "id": "e95e4c95-0a64-43a8-979c-8a4b302062f4",
   "metadata": {},
   "outputs": [],
   "source": []
  }
 ],
 "metadata": {
  "kernelspec": {
   "display_name": "Python 3 (ipykernel)",
   "language": "python",
   "name": "python3"
  },
  "language_info": {
   "codemirror_mode": {
    "name": "ipython",
    "version": 3
   },
   "file_extension": ".py",
   "mimetype": "text/x-python",
   "name": "python",
   "nbconvert_exporter": "python",
   "pygments_lexer": "ipython3",
   "version": "3.12.5"
  }
 },
 "nbformat": 4,
 "nbformat_minor": 5
}
