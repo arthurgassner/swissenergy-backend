{
 "cells": [
  {
   "cell_type": "markdown",
   "id": "a0aa002a-75d4-4418-81bd-50e885672442",
   "metadata": {},
   "source": [
    "# Data loader"
   ]
  },
  {
   "cell_type": "code",
   "execution_count": 1,
   "id": "e95e4c95-0a64-43a8-979c-8a4b302062f4",
   "metadata": {},
   "outputs": [],
   "source": [
    "from entsoe import EntsoePandasClient\n",
    "from entsoe.exceptions import NoMatchingDataError\n",
    "import pandas as pd\n",
    "from datetime import datetime\n",
    "from pathlib import Path\n",
    "\n",
    "FILEPATH = 'data/bronze/df.parquet'"
   ]
  },
  {
   "cell_type": "code",
   "execution_count": 2,
   "id": "9de3aa24-43d5-4eef-97fd-36f5161b938e",
   "metadata": {},
   "outputs": [],
   "source": [
    "# Setup client\n",
    "client = EntsoePandasClient(api_key=\"511fd94f-c3eb-4c3d-806b-42fcad2bb9c1\") # Get API key through website, after kindly asking the support"
   ]
  },
  {
   "cell_type": "code",
   "execution_count": 3,
   "id": "eb72ae11-2552-46eb-b05b-997f16859e7e",
   "metadata": {},
   "outputs": [
    {
     "data": {
      "text/html": [
       "<div>\n",
       "<style scoped>\n",
       "    .dataframe tbody tr th:only-of-type {\n",
       "        vertical-align: middle;\n",
       "    }\n",
       "\n",
       "    .dataframe tbody tr th {\n",
       "        vertical-align: top;\n",
       "    }\n",
       "\n",
       "    .dataframe thead th {\n",
       "        text-align: right;\n",
       "    }\n",
       "</style>\n",
       "<table border=\"1\" class=\"dataframe\">\n",
       "  <thead>\n",
       "    <tr style=\"text-align: right;\">\n",
       "      <th></th>\n",
       "      <th>Forecasted Load</th>\n",
       "      <th>Actual Load</th>\n",
       "    </tr>\n",
       "  </thead>\n",
       "  <tbody>\n",
       "    <tr>\n",
       "      <th>2014-10-24 00:00:00+02:00</th>\n",
       "      <td>NaN</td>\n",
       "      <td>6522.0</td>\n",
       "    </tr>\n",
       "    <tr>\n",
       "      <th>2014-10-24 01:00:00+02:00</th>\n",
       "      <td>NaN</td>\n",
       "      <td>6342.0</td>\n",
       "    </tr>\n",
       "    <tr>\n",
       "      <th>2014-10-24 02:00:00+02:00</th>\n",
       "      <td>NaN</td>\n",
       "      <td>6269.0</td>\n",
       "    </tr>\n",
       "  </tbody>\n",
       "</table>\n",
       "</div>"
      ],
      "text/plain": [
       "                           Forecasted Load  Actual Load\n",
       "2014-10-24 00:00:00+02:00              NaN       6522.0\n",
       "2014-10-24 01:00:00+02:00              NaN       6342.0\n",
       "2014-10-24 02:00:00+02:00              NaN       6269.0"
      ]
     },
     "execution_count": 3,
     "metadata": {},
     "output_type": "execute_result"
    }
   ],
   "source": [
    "# Load already-downloaded data\n",
    "df = pd.DataFrame()\n",
    "if Path(FILEPATH).is_file(): \n",
    "    df = pd.read_parquet(FILEPATH)\n",
    "df.head(3)"
   ]
  },
  {
   "cell_type": "code",
   "execution_count": 11,
   "id": "5e418793-4acf-4562-aec9-a907d3add7a0",
   "metadata": {},
   "outputs": [
    {
     "data": {
      "text/plain": [
       "Timestamp('2019-07-24 21:01:00+0200', tz='Europe/Zurich')"
      ]
     },
     "execution_count": 11,
     "metadata": {},
     "output_type": "execute_result"
    }
   ],
   "source": [
    "# Figure out the latest-available data\n",
    "start_ts = pd.Timestamp('20140101', tz='Europe/Zurich') # Very early ts\n",
    "if len(df): \n",
    "    start_ts = pd.read_parquet(FILEPATH).index.max() + pd.Timedelta(1, 'm')\n",
    "start_ts"
   ]
  },
  {
   "cell_type": "code",
   "execution_count": 12,
   "id": "179ec705-227f-4a18-8029-2e0a2dd43666",
   "metadata": {},
   "outputs": [
    {
     "data": {
      "text/html": [
       "<div>\n",
       "<style scoped>\n",
       "    .dataframe tbody tr th:only-of-type {\n",
       "        vertical-align: middle;\n",
       "    }\n",
       "\n",
       "    .dataframe tbody tr th {\n",
       "        vertical-align: top;\n",
       "    }\n",
       "\n",
       "    .dataframe thead th {\n",
       "        text-align: right;\n",
       "    }\n",
       "</style>\n",
       "<table border=\"1\" class=\"dataframe\">\n",
       "  <thead>\n",
       "    <tr style=\"text-align: right;\">\n",
       "      <th></th>\n",
       "      <th>Forecasted Load</th>\n",
       "      <th>Actual Load</th>\n",
       "    </tr>\n",
       "  </thead>\n",
       "  <tbody>\n",
       "    <tr>\n",
       "      <th>2019-07-24 22:00:00+02:00</th>\n",
       "      <td>6389.0</td>\n",
       "      <td>6383.0</td>\n",
       "    </tr>\n",
       "    <tr>\n",
       "      <th>2019-07-24 23:00:00+02:00</th>\n",
       "      <td>6212.0</td>\n",
       "      <td>6337.0</td>\n",
       "    </tr>\n",
       "    <tr>\n",
       "      <th>2019-07-25 00:00:00+02:00</th>\n",
       "      <td>5300.0</td>\n",
       "      <td>5928.0</td>\n",
       "    </tr>\n",
       "  </tbody>\n",
       "</table>\n",
       "</div>"
      ],
      "text/plain": [
       "                           Forecasted Load  Actual Load\n",
       "2019-07-24 22:00:00+02:00           6389.0       6383.0\n",
       "2019-07-24 23:00:00+02:00           6212.0       6337.0\n",
       "2019-07-25 00:00:00+02:00           5300.0       5928.0"
      ]
     },
     "execution_count": 12,
     "metadata": {},
     "output_type": "execute_result"
    }
   ],
   "source": [
    "# Fetch loads and forecasts\n",
    "end_ts = pd.Timestamp(datetime.now(), tz='Europe/Zurich') + pd.Timedelta(1, 'd')\n",
    "fetched_df = pd.DataFrame()\n",
    "try:\n",
    "    fetched_df = client.query_load_and_forecast(\n",
    "        country_code='CH', \n",
    "        start=start_ts, \n",
    "        end=end_ts\n",
    "    )\n",
    "except NoMatchingDataError:\n",
    "    print(f\"No data available between {start_ts} -> {end_ts}\")\n",
    "    \n",
    "fetched_df.head(3)"
   ]
  },
  {
   "cell_type": "code",
   "execution_count": 13,
   "id": "202146dc-ed64-4b7d-9017-e5a9dbed33a3",
   "metadata": {},
   "outputs": [
    {
     "data": {
      "text/html": [
       "<div>\n",
       "<style scoped>\n",
       "    .dataframe tbody tr th:only-of-type {\n",
       "        vertical-align: middle;\n",
       "    }\n",
       "\n",
       "    .dataframe tbody tr th {\n",
       "        vertical-align: top;\n",
       "    }\n",
       "\n",
       "    .dataframe thead th {\n",
       "        text-align: right;\n",
       "    }\n",
       "</style>\n",
       "<table border=\"1\" class=\"dataframe\">\n",
       "  <thead>\n",
       "    <tr style=\"text-align: right;\">\n",
       "      <th></th>\n",
       "      <th>Forecasted Load</th>\n",
       "      <th>Actual Load</th>\n",
       "    </tr>\n",
       "  </thead>\n",
       "  <tbody>\n",
       "    <tr>\n",
       "      <th>2014-10-24 00:00:00+02:00</th>\n",
       "      <td>NaN</td>\n",
       "      <td>6522.0</td>\n",
       "    </tr>\n",
       "    <tr>\n",
       "      <th>2014-10-24 01:00:00+02:00</th>\n",
       "      <td>NaN</td>\n",
       "      <td>6342.0</td>\n",
       "    </tr>\n",
       "    <tr>\n",
       "      <th>2014-10-24 02:00:00+02:00</th>\n",
       "      <td>NaN</td>\n",
       "      <td>6269.0</td>\n",
       "    </tr>\n",
       "  </tbody>\n",
       "</table>\n",
       "</div>"
      ],
      "text/plain": [
       "                           Forecasted Load  Actual Load\n",
       "2014-10-24 00:00:00+02:00              NaN       6522.0\n",
       "2014-10-24 01:00:00+02:00              NaN       6342.0\n",
       "2014-10-24 02:00:00+02:00              NaN       6269.0"
      ]
     },
     "execution_count": 13,
     "metadata": {},
     "output_type": "execute_result"
    }
   ],
   "source": [
    "# Update the bronze data \n",
    "df = pd.concat([df, fetched_df], axis=0)\n",
    "df.head(3)"
   ]
  },
  {
   "cell_type": "code",
   "execution_count": 14,
   "id": "75dd2f79-1fc1-4b4b-acff-13ba4ad066ce",
   "metadata": {},
   "outputs": [],
   "source": [
    "assert df.index.is_unique"
   ]
  },
  {
   "cell_type": "code",
   "execution_count": 15,
   "id": "fc3950c0-34db-4c89-892a-24f50d4d0bc3",
   "metadata": {},
   "outputs": [],
   "source": [
    "# Dump to bronze\n",
    "df.to_parquet(FILEPATH)"
   ]
  },
  {
   "cell_type": "code",
   "execution_count": null,
   "id": "d23101e2-32fe-4b01-8977-5b1bca823a4c",
   "metadata": {},
   "outputs": [],
   "source": []
  }
 ],
 "metadata": {
  "kernelspec": {
   "display_name": "Python 3 (ipykernel)",
   "language": "python",
   "name": "python3"
  },
  "language_info": {
   "codemirror_mode": {
    "name": "ipython",
    "version": 3
   },
   "file_extension": ".py",
   "mimetype": "text/x-python",
   "name": "python",
   "nbconvert_exporter": "python",
   "pygments_lexer": "ipython3",
   "version": "3.12.5"
  }
 },
 "nbformat": 4,
 "nbformat_minor": 5
}
