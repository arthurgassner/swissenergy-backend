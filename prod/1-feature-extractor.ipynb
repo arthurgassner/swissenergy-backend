{
 "cells": [
  {
   "cell_type": "markdown",
   "id": "7010b9c1-b0b8-4108-8a8b-eae674f73321",
   "metadata": {},
   "source": [
    "# Feature extractor"
   ]
  },
  {
   "cell_type": "code",
   "execution_count": 1,
   "id": "dc9410e2-98c5-4998-b8a1-15b2371312f1",
   "metadata": {},
   "outputs": [],
   "source": [
    "import pandas as pd\n",
    "import numpy as np\n",
    "from tqdm import tqdm\n",
    "from typing import Callable"
   ]
  },
  {
   "cell_type": "code",
   "execution_count": 2,
   "id": "07eebf85-9c94-498a-801c-21b09d0460e9",
   "metadata": {},
   "outputs": [],
   "source": [
    "def compute_timedelta_ago_load(df: pd.DataFrame, timedelta: pd.Timedelta) -> pd.Series:\n",
    "    \"\"\"For each timestamps in the index, compute the load timedelta ago \n",
    "\n",
    "    Assume that each row's index is the current timestamp.\n",
    "    That is, when we say \"timedelta ago from now\", we mean \"timedelta ago from this timestamp\".\n",
    "\n",
    "    df (pd.DataFrame): Dataframe containing the `24h_later_load`, whose index refers to now when saying \"24h later\".\n",
    "    timedelta (pd.Timedelta): Time delta of interest, i.e. how long ago do we want the load ?\n",
    "    \"\"\"\n",
    "    \n",
    "    assert '24h_later_load' in df.columns\n",
    "    assert isinstance(df.index, pd.DatetimeIndex)\n",
    "\n",
    "    ts_to_24h_later_load = df['24h_later_load'].to_dict()\n",
    "    return df.index.to_series().apply(lambda x: ts_to_24h_later_load.get(x - pd.Timedelta(24, 'h') - timedelta))"
   ]
  },
  {
   "cell_type": "code",
   "execution_count": 3,
   "id": "789fb5b2-9c36-4cde-b11c-a4b9435d0a6b",
   "metadata": {},
   "outputs": [],
   "source": [
    "def compute_stat(df: pd.DataFrame, timedelta: pd.Timedelta, stat: Callable) -> pd.Series:\n",
    "    \"\"\"For each timestamps in the index, compute each statistic in `stats` over the date comprised between now and timedelta ago. \n",
    "\n",
    "    Assume that each row's index is the current timestamp.\n",
    "    That is, when we say \"timedelta ago from now\", we mean \"timedelta ago from this timestamp\".\n",
    "\n",
    "    df (pd.DataFrame): Dataframe containing the `24h_later_load`, whose index refers to now when saying \"24h later\".\n",
    "    timedelta (pd.Timedelta): Time delta of interest, i.e. how long ago do we want the statistics calculation to start ?\n",
    "    stats (list[func]): Functions of the statistic to compute\n",
    "    \"\"\"\n",
    "\n",
    "    assert '24h_later_load' in df.columns\n",
    "    assert isinstance(df.index, pd.DatetimeIndex)\n",
    "\n",
    "    def _compute_stat(current_time, timedelta, stat):\n",
    "        start_time = current_time -  pd.Timedelta(24, 'h') - timedelta\n",
    "        end_time = current_time - pd.Timedelta(24, 'h') \n",
    "        \n",
    "        relevant_data = df.loc[start_time:end_time, '24h_later_load']\n",
    "    \n",
    "        if len(relevant_data) == 0:\n",
    "            return np.nan\n",
    "    \n",
    "        return stat(relevant_data.values)\n",
    "\n",
    "    return df.index.to_series().apply(lambda x: _compute_stat(x, timedelta, stat))"
   ]
  },
  {
   "cell_type": "code",
   "execution_count": 4,
   "id": "830e1821-eb7c-4963-bfbc-64b28d405486",
   "metadata": {},
   "outputs": [
    {
     "data": {
      "text/html": [
       "<div>\n",
       "<style scoped>\n",
       "    .dataframe tbody tr th:only-of-type {\n",
       "        vertical-align: middle;\n",
       "    }\n",
       "\n",
       "    .dataframe tbody tr th {\n",
       "        vertical-align: top;\n",
       "    }\n",
       "\n",
       "    .dataframe thead th {\n",
       "        text-align: right;\n",
       "    }\n",
       "</style>\n",
       "<table border=\"1\" class=\"dataframe\">\n",
       "  <thead>\n",
       "    <tr style=\"text-align: right;\">\n",
       "      <th></th>\n",
       "      <th>24h_later_load</th>\n",
       "    </tr>\n",
       "    <tr>\n",
       "      <th>datetime</th>\n",
       "      <th></th>\n",
       "    </tr>\n",
       "  </thead>\n",
       "  <tbody>\n",
       "    <tr>\n",
       "      <th>2014-12-14 00:00:00</th>\n",
       "      <td>6131</td>\n",
       "    </tr>\n",
       "    <tr>\n",
       "      <th>2014-12-14 01:00:00</th>\n",
       "      <td>5842</td>\n",
       "    </tr>\n",
       "    <tr>\n",
       "      <th>2014-12-14 02:00:00</th>\n",
       "      <td>5715</td>\n",
       "    </tr>\n",
       "  </tbody>\n",
       "</table>\n",
       "</div>"
      ],
      "text/plain": [
       "                     24h_later_load\n",
       "datetime                           \n",
       "2014-12-14 00:00:00            6131\n",
       "2014-12-14 01:00:00            5842\n",
       "2014-12-14 02:00:00            5715"
      ]
     },
     "execution_count": 4,
     "metadata": {},
     "output_type": "execute_result"
    }
   ],
   "source": [
    "# Load data\n",
    "df = pd.read_parquet('../data/silver/df.parquet', columns=['24h_later_load'])\n",
    "df.head(3)"
   ]
  },
  {
   "cell_type": "code",
   "execution_count": 5,
   "id": "d5fc1ef1-12e8-4721-9cf3-8f4045b8ba47",
   "metadata": {},
   "outputs": [],
   "source": [
    "# Enrich the df with the datetime attributes\n",
    "df['year'] = df.index.year\n",
    "df['month'] = df.index.month\n",
    "df['day'] = df.index.day\n",
    "df['hour'] = df.index.hour\n",
    "df['weekday'] = df.index.weekday\n",
    "\n",
    "# Enrich each row with previous loads: 1h-ago, 2h-ago, 3h-ago, 24h-ago, 7days-ago\n",
    "df['1h_ago_load'] = compute_timedelta_ago_load(df, timedelta=pd.Timedelta(1, 'h'))\n",
    "df['2h_ago_load'] = compute_timedelta_ago_load(df, timedelta=pd.Timedelta(2, 'h'))\n",
    "df['3h_ago_load'] = compute_timedelta_ago_load(df, timedelta=pd.Timedelta(3, 'h'))\n",
    "df['24h_ago_load'] = compute_timedelta_ago_load(df, timedelta=pd.Timedelta(24, 'h'))\n",
    "df['7d_ago_load'] = compute_timedelta_ago_load(df, timedelta=pd.Timedelta(7, 'd'))\n",
    "\n",
    "# Enrich the df with statistics\n",
    "df['8h_min'] = compute_stat(df, pd.Timedelta(8, 'h'), np.min)\n",
    "df['8h_max'] = compute_stat(df, pd.Timedelta(8, 'h'), np.max)\n",
    "df['8h_median'] = compute_stat(df, pd.Timedelta(8, 'h'), np.median)\n",
    "\n",
    "df['24h_min'] = compute_stat(df, pd.Timedelta(24, 'h'), np.min)\n",
    "df['24h_max'] = compute_stat(df, pd.Timedelta(24, 'h'), np.max)\n",
    "df['24h_median'] = compute_stat(df, pd.Timedelta(24, 'h'), np.median)\n",
    "\n",
    "df['7d_min'] = compute_stat(df, pd.Timedelta(7, 'd'), np.min)\n",
    "df['7d_max'] = compute_stat(df, pd.Timedelta(7, 'd'), np.max)\n",
    "df['7d_median'] = compute_stat(df, pd.Timedelta(7, 'd'), np.median)\n",
    "\n",
    "# Drop times for which we could not compute a time\n",
    "df = df.dropna()"
   ]
  },
  {
   "cell_type": "code",
   "execution_count": 6,
   "id": "0f03bbda-3c7e-461c-a699-b1dd8c4b48b2",
   "metadata": {},
   "outputs": [],
   "source": [
    "df.to_parquet('../data/gold/df.parquet')"
   ]
  }
 ],
 "metadata": {
  "kernelspec": {
   "display_name": "Python 3 (ipykernel)",
   "language": "python",
   "name": "python3"
  },
  "language_info": {
   "codemirror_mode": {
    "name": "ipython",
    "version": 3
   },
   "file_extension": ".py",
   "mimetype": "text/x-python",
   "name": "python",
   "nbconvert_exporter": "python",
   "pygments_lexer": "ipython3",
   "version": "3.12.5"
  }
 },
 "nbformat": 4,
 "nbformat_minor": 5
}
