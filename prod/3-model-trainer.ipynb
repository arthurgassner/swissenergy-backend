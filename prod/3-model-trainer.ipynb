{
 "cells": [
  {
   "cell_type": "markdown",
   "id": "128c8c29-8afd-495a-a138-6461caf6c7b8",
   "metadata": {},
   "source": [
    "# Model trainer"
   ]
  },
  {
   "cell_type": "code",
   "execution_count": 3,
   "id": "03b5c02c-d6b2-4a45-bd91-915c027819ce",
   "metadata": {},
   "outputs": [],
   "source": [
    "import pandas as pd\n",
    "import numpy as np\n",
    "from tqdm import tqdm\n",
    "from typing import Tuple, Optional\n",
    "import lightgbm as lgb\n",
    "from sklearn.metrics import mean_absolute_percentage_error\n",
    "import joblib"
   ]
  },
  {
   "cell_type": "code",
   "execution_count": 4,
   "id": "af5433cd-5650-455c-b391-a8f1c1fdb342",
   "metadata": {},
   "outputs": [
    {
     "data": {
      "text/html": [
       "<div>\n",
       "<style scoped>\n",
       "    .dataframe tbody tr th:only-of-type {\n",
       "        vertical-align: middle;\n",
       "    }\n",
       "\n",
       "    .dataframe tbody tr th {\n",
       "        vertical-align: top;\n",
       "    }\n",
       "\n",
       "    .dataframe thead th {\n",
       "        text-align: right;\n",
       "    }\n",
       "</style>\n",
       "<table border=\"1\" class=\"dataframe\">\n",
       "  <thead>\n",
       "    <tr style=\"text-align: right;\">\n",
       "      <th></th>\n",
       "      <th>24h_later_load</th>\n",
       "      <th>year</th>\n",
       "      <th>month</th>\n",
       "      <th>day</th>\n",
       "      <th>hour</th>\n",
       "      <th>weekday</th>\n",
       "      <th>1h_ago_load</th>\n",
       "      <th>2h_ago_load</th>\n",
       "      <th>3h_ago_load</th>\n",
       "      <th>24h_ago_load</th>\n",
       "      <th>7d_ago_load</th>\n",
       "      <th>8h_min</th>\n",
       "      <th>8h_max</th>\n",
       "      <th>8h_median</th>\n",
       "      <th>24h_min</th>\n",
       "      <th>24h_max</th>\n",
       "      <th>24h_median</th>\n",
       "      <th>7d_min</th>\n",
       "      <th>7d_max</th>\n",
       "      <th>7d_median</th>\n",
       "    </tr>\n",
       "  </thead>\n",
       "  <tbody>\n",
       "    <tr>\n",
       "      <th>2015-01-08 01:00:00+01:00</th>\n",
       "      <td>6999</td>\n",
       "      <td>2015</td>\n",
       "      <td>1</td>\n",
       "      <td>8</td>\n",
       "      <td>1</td>\n",
       "      <td>3</td>\n",
       "      <td>7605.0</td>\n",
       "      <td>8000.0</td>\n",
       "      <td>8212.0</td>\n",
       "      <td>7528.0</td>\n",
       "      <td>7633.0</td>\n",
       "      <td>7499.0</td>\n",
       "      <td>9361.0</td>\n",
       "      <td>8568.0</td>\n",
       "      <td>7347.0</td>\n",
       "      <td>9447.0</td>\n",
       "      <td>8695.0</td>\n",
       "      <td>6380.0</td>\n",
       "      <td>9447.0</td>\n",
       "      <td>7496.0</td>\n",
       "    </tr>\n",
       "    <tr>\n",
       "      <th>2015-01-08 02:00:00+01:00</th>\n",
       "      <td>6864</td>\n",
       "      <td>2015</td>\n",
       "      <td>1</td>\n",
       "      <td>8</td>\n",
       "      <td>2</td>\n",
       "      <td>3</td>\n",
       "      <td>7499.0</td>\n",
       "      <td>7605.0</td>\n",
       "      <td>8000.0</td>\n",
       "      <td>7510.0</td>\n",
       "      <td>7654.0</td>\n",
       "      <td>7423.0</td>\n",
       "      <td>9361.0</td>\n",
       "      <td>8212.0</td>\n",
       "      <td>7347.0</td>\n",
       "      <td>9447.0</td>\n",
       "      <td>8695.0</td>\n",
       "      <td>6380.0</td>\n",
       "      <td>9447.0</td>\n",
       "      <td>7466.0</td>\n",
       "    </tr>\n",
       "    <tr>\n",
       "      <th>2015-01-08 03:00:00+01:00</th>\n",
       "      <td>6784</td>\n",
       "      <td>2015</td>\n",
       "      <td>1</td>\n",
       "      <td>8</td>\n",
       "      <td>3</td>\n",
       "      <td>3</td>\n",
       "      <td>7423.0</td>\n",
       "      <td>7499.0</td>\n",
       "      <td>7605.0</td>\n",
       "      <td>7349.0</td>\n",
       "      <td>7397.0</td>\n",
       "      <td>7303.0</td>\n",
       "      <td>9361.0</td>\n",
       "      <td>8000.0</td>\n",
       "      <td>7303.0</td>\n",
       "      <td>9447.0</td>\n",
       "      <td>8695.0</td>\n",
       "      <td>6380.0</td>\n",
       "      <td>9447.0</td>\n",
       "      <td>7463.0</td>\n",
       "    </tr>\n",
       "  </tbody>\n",
       "</table>\n",
       "</div>"
      ],
      "text/plain": [
       "                           24h_later_load  year  month  day  hour  weekday  \\\n",
       "2015-01-08 01:00:00+01:00            6999  2015      1    8     1        3   \n",
       "2015-01-08 02:00:00+01:00            6864  2015      1    8     2        3   \n",
       "2015-01-08 03:00:00+01:00            6784  2015      1    8     3        3   \n",
       "\n",
       "                           1h_ago_load  2h_ago_load  3h_ago_load  \\\n",
       "2015-01-08 01:00:00+01:00       7605.0       8000.0       8212.0   \n",
       "2015-01-08 02:00:00+01:00       7499.0       7605.0       8000.0   \n",
       "2015-01-08 03:00:00+01:00       7423.0       7499.0       7605.0   \n",
       "\n",
       "                           24h_ago_load  7d_ago_load  8h_min  8h_max  \\\n",
       "2015-01-08 01:00:00+01:00        7528.0       7633.0  7499.0  9361.0   \n",
       "2015-01-08 02:00:00+01:00        7510.0       7654.0  7423.0  9361.0   \n",
       "2015-01-08 03:00:00+01:00        7349.0       7397.0  7303.0  9361.0   \n",
       "\n",
       "                           8h_median  24h_min  24h_max  24h_median  7d_min  \\\n",
       "2015-01-08 01:00:00+01:00     8568.0   7347.0   9447.0      8695.0  6380.0   \n",
       "2015-01-08 02:00:00+01:00     8212.0   7347.0   9447.0      8695.0  6380.0   \n",
       "2015-01-08 03:00:00+01:00     8000.0   7303.0   9447.0      8695.0  6380.0   \n",
       "\n",
       "                           7d_max  7d_median  \n",
       "2015-01-08 01:00:00+01:00  9447.0     7496.0  \n",
       "2015-01-08 02:00:00+01:00  9447.0     7466.0  \n",
       "2015-01-08 03:00:00+01:00  9447.0     7463.0  "
      ]
     },
     "execution_count": 4,
     "metadata": {},
     "output_type": "execute_result"
    }
   ],
   "source": [
    "# Load the data\n",
    "df = pd.read_parquet('data/gold/df.parquet')\n",
    "df.head(3)"
   ]
  },
  {
   "cell_type": "code",
   "execution_count": 5,
   "id": "d436b0dd-ce84-45a6-b839-b2cf554de709",
   "metadata": {},
   "outputs": [],
   "source": [
    "def backtesting(Xy: pd.DataFrame, model: lgb.LGBMRegressor, starting_ts: Optional[pd.Timestamp] = None, window_size: Optional[int] = None, use_every_nth_ts: int = 1) -> Tuple[pd.DataFrame, float]:\n",
    "    \"\"\"Backtest the model, by starting either\n",
    "    - `window_size` rows before the last row\n",
    "    - at the `starting_ts` timestamp\n",
    "    Each iteration during the foreward-walk, add `use_every_nth_ts` rows.\n",
    "    \"\"\"\n",
    "\n",
    "    assert '24h_later_load' in Xy.columns\n",
    "    assert window_size < len(Xy)\n",
    "\n",
    "    if starting_ts is None:\n",
    "        if window_size is None:\n",
    "            raise Error('One of `starting_ts`, `window_size` must not be None.')\n",
    "\n",
    "        starting_ts = Xy.index[-window_size]\n",
    "        \n",
    "    cutoff_timestamps = Xy[Xy.index >= starting_ts].index.to_list()\n",
    "    \n",
    "    cutoff_ts_to_y = {}\n",
    "    for cutoff_ts in tqdm(cutoff_timestamps[::use_every_nth_ts]):    \n",
    "        \n",
    "        # Split train:val\n",
    "        Xy_train = Xy[Xy.index < cutoff_ts]\n",
    "        Xy_val = Xy[Xy.index == cutoff_ts]\n",
    "        \n",
    "        # Split X,y\n",
    "        X_train, y_train = Xy_train.drop(columns=['24h_later_load']), Xy_train['24h_later_load']\n",
    "        X_val, y_val = Xy_val.drop(columns=['24h_later_load']), Xy_val['24h_later_load']\n",
    "    \n",
    "        # Train model\n",
    "        model.fit(X_train, y_train)\n",
    "    \n",
    "        # Compute prediction in 24h\n",
    "        yhat_val = model.predict(X_val) \n",
    "    \n",
    "        cutoff_ts_to_y[cutoff_ts] = (yhat_val[0], y_val.iloc[0])\n",
    "        \n",
    "    results_df = pd.DataFrame({\n",
    "        'cutoff_ts': cutoff_ts_to_y.keys(), \n",
    "        'predicted_24h_later_load': [e[0] for e in cutoff_ts_to_y.values()], \n",
    "        '24h_later_load': [e[1] for e in cutoff_ts_to_y.values()]\n",
    "    })\n",
    "\n",
    "    mape = mean_absolute_percentage_error(results_df['24h_later_load'], results_df['predicted_24h_later_load']) * 100\n",
    "\n",
    "    return results_df, mape"
   ]
  },
  {
   "cell_type": "code",
   "execution_count": 6,
   "id": "487ad954-aa62-45fd-a693-8cc92816678e",
   "metadata": {},
   "outputs": [
    {
     "name": "stderr",
     "output_type": "stream",
     "text": [
      "100%|███████████████████████████████████████████| 72/72 [00:20<00:00,  3.45it/s]"
     ]
    },
    {
     "name": "stdout",
     "output_type": "stream",
     "text": [
      "Backtested MAPE: 5.31%\n"
     ]
    },
    {
     "name": "stderr",
     "output_type": "stream",
     "text": [
      "\n"
     ]
    },
    {
     "data": {
      "text/html": [
       "<div>\n",
       "<style scoped>\n",
       "    .dataframe tbody tr th:only-of-type {\n",
       "        vertical-align: middle;\n",
       "    }\n",
       "\n",
       "    .dataframe tbody tr th {\n",
       "        vertical-align: top;\n",
       "    }\n",
       "\n",
       "    .dataframe thead th {\n",
       "        text-align: right;\n",
       "    }\n",
       "</style>\n",
       "<table border=\"1\" class=\"dataframe\">\n",
       "  <thead>\n",
       "    <tr style=\"text-align: right;\">\n",
       "      <th></th>\n",
       "      <th>cutoff_ts</th>\n",
       "      <th>predicted_24h_later_load</th>\n",
       "      <th>24h_later_load</th>\n",
       "    </tr>\n",
       "  </thead>\n",
       "  <tbody>\n",
       "    <tr>\n",
       "      <th>0</th>\n",
       "      <td>2024-08-27 16:00:00+02:00</td>\n",
       "      <td>6811.455757</td>\n",
       "      <td>7171</td>\n",
       "    </tr>\n",
       "    <tr>\n",
       "      <th>1</th>\n",
       "      <td>2024-08-28 02:00:00+02:00</td>\n",
       "      <td>4973.135595</td>\n",
       "      <td>5065</td>\n",
       "    </tr>\n",
       "    <tr>\n",
       "      <th>2</th>\n",
       "      <td>2024-08-28 12:00:00+02:00</td>\n",
       "      <td>6783.165025</td>\n",
       "      <td>7051</td>\n",
       "    </tr>\n",
       "  </tbody>\n",
       "</table>\n",
       "</div>"
      ],
      "text/plain": [
       "                  cutoff_ts  predicted_24h_later_load  24h_later_load\n",
       "0 2024-08-27 16:00:00+02:00               6811.455757            7171\n",
       "1 2024-08-28 02:00:00+02:00               4973.135595            5065\n",
       "2 2024-08-28 12:00:00+02:00               6783.165025            7051"
      ]
     },
     "execution_count": 6,
     "metadata": {},
     "output_type": "execute_result"
    }
   ],
   "source": [
    "# Train & test model over the last month (i.e. 24*30 rows)\n",
    "reg = lgb.LGBMRegressor(n_estimators=100, force_row_wise=True, verbose=0)\n",
    "results_df, mape = backtesting(Xy=df, model=reg, window_size=24*30, use_every_nth_ts=10)\n",
    "print(f'Backtested MAPE: {mape:.2f}%')\n",
    "results_df.head(3)"
   ]
  },
  {
   "cell_type": "code",
   "execution_count": 7,
   "id": "4533b4a3-289b-4094-b6b3-1fe92f6b5204",
   "metadata": {},
   "outputs": [
    {
     "data": {
      "text/plain": [
       "['model.joblib']"
      ]
     },
     "execution_count": 7,
     "metadata": {},
     "output_type": "execute_result"
    }
   ],
   "source": [
    "# Dump\n",
    "joblib.dump(reg, 'model.joblib')"
   ]
  },
  {
   "cell_type": "code",
   "execution_count": null,
   "id": "ff704053-5f01-4cdf-9ad1-459bf5b03131",
   "metadata": {},
   "outputs": [],
   "source": []
  }
 ],
 "metadata": {
  "kernelspec": {
   "display_name": "Python 3 (ipykernel)",
   "language": "python",
   "name": "python3"
  },
  "language_info": {
   "codemirror_mode": {
    "name": "ipython",
    "version": 3
   },
   "file_extension": ".py",
   "mimetype": "text/x-python",
   "name": "python",
   "nbconvert_exporter": "python",
   "pygments_lexer": "ipython3",
   "version": "3.12.5"
  }
 },
 "nbformat": 4,
 "nbformat_minor": 5
}
