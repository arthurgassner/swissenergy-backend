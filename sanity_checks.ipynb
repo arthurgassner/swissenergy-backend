{
 "cells": [
  {
   "cell_type": "code",
   "execution_count": 1,
   "id": "0cd3db8f-c331-47b8-b169-6db1e83d8e69",
   "metadata": {},
   "outputs": [],
   "source": [
    "from model_server.data_loader import DataLoader\n",
    "from model_server.data_cleaner import DataCleaner\n",
    "from model_server.feature_extractor import FeatureExtractor\n",
    "from model_server.model import Model\n",
    "\n",
    "import pandas as pd\n",
    "from datetime import datetime"
   ]
  },
  {
   "cell_type": "code",
   "execution_count": 2,
   "id": "fedb3b34-e3c3-42f4-9744-07e0eb460268",
   "metadata": {},
   "outputs": [
    {
     "data": {
      "text/plain": [
       "True"
      ]
     },
     "execution_count": 2,
     "metadata": {},
     "output_type": "execute_result"
    }
   ],
   "source": [
    "from dotenv import load_dotenv\n",
    "import os\n",
    "load_dotenv(dotenv_path='.env')"
   ]
  },
  {
   "cell_type": "code",
   "execution_count": 3,
   "id": "bc767a09-8103-4f58-82f3-7d46f400806c",
   "metadata": {},
   "outputs": [],
   "source": [
    "data_loader = DataLoader(entsoe_api_key=os.getenv('ENTSOE_API_KEY'))\n",
    "data_loader.update_df(out_df_filepath=\"data/bronze/df.pickle\")"
   ]
  },
  {
   "cell_type": "code",
   "execution_count": 4,
   "id": "794a96c4-1f4c-4ae1-a70f-4545e2da9a5f",
   "metadata": {},
   "outputs": [],
   "source": [
    "DataCleaner.clean(\n",
    "    in_df_filepath='data/bronze/df.pickle',\n",
    "    out_df_filepath='data/silver/df.pickle',\n",
    ")"
   ]
  },
  {
   "cell_type": "code",
   "execution_count": 3,
   "id": "1f760fcb-1b67-48c5-adbb-863700a3c4c4",
   "metadata": {},
   "outputs": [],
   "source": [
    "FeatureExtractor.extract_features(\n",
    "    in_df_filepath='data/silver/df.pickle',\n",
    "    out_df_filepath='data/gold/df.pickle',\n",
    ")"
   ]
  },
  {
   "cell_type": "code",
   "execution_count": 7,
   "id": "a29c0ade-f689-4a4a-b7b9-707514cc5733",
   "metadata": {},
   "outputs": [],
   "source": [
    "model = Model(model_filepath='data/model.joblib', n_estimators=100)\n",
    "model.train(Xy_filepath='data/gold/df.pickle')"
   ]
  },
  {
   "cell_type": "code",
   "execution_count": 8,
   "id": "51087f09-d72f-4b76-9683-34e0b082c81c",
   "metadata": {},
   "outputs": [
    {
     "name": "stderr",
     "output_type": "stream",
     "text": [
      "100%|█████████████████████████████████████████████| 8/8 [00:01<00:00,  4.45it/s]"
     ]
    },
    {
     "name": "stdout",
     "output_type": "stream",
     "text": [
      "Backtested MAPE: 8.23%\n"
     ]
    },
    {
     "name": "stderr",
     "output_type": "stream",
     "text": [
      "\n"
     ]
    }
   ],
   "source": [
    "_, mape = model.backtest(\n",
    "    Xy_filepath='data/gold/df.pickle',\n",
    "    timedelta=pd.Timedelta(1, 'd'),\n",
    "    use_every_nth_ts=1,\n",
    ")\n",
    "print(f'Backtested MAPE: {mape:.2f}%')"
   ]
  },
  {
   "cell_type": "code",
   "execution_count": 9,
   "id": "981fcfd5-c7b4-47f8-a495-de30b107154b",
   "metadata": {},
   "outputs": [
    {
     "name": "stderr",
     "output_type": "stream",
     "text": [
      "100%|█████████████████████████████████████████████| 6/6 [00:01<00:00,  4.44it/s]"
     ]
    },
    {
     "name": "stdout",
     "output_type": "stream",
     "text": [
      "Backtested MAPE: 4.21%\n"
     ]
    },
    {
     "name": "stderr",
     "output_type": "stream",
     "text": [
      "\n"
     ]
    }
   ],
   "source": [
    "_, mape = model.backtest(\n",
    "    Xy_filepath='data/gold/df.pickle',\n",
    "    timedelta=pd.Timedelta(30, 'd'),\n",
    "    use_every_nth_ts=100,\n",
    ")\n",
    "print(f'Backtested MAPE: {mape:.2f}%')"
   ]
  },
  {
   "cell_type": "code",
   "execution_count": 10,
   "id": "9a7792a8-5972-4a79-bb5a-6fd421fcba5f",
   "metadata": {},
   "outputs": [
    {
     "data": {
      "text/html": [
       "<div>\n",
       "<style scoped>\n",
       "    .dataframe tbody tr th:only-of-type {\n",
       "        vertical-align: middle;\n",
       "    }\n",
       "\n",
       "    .dataframe tbody tr th {\n",
       "        vertical-align: top;\n",
       "    }\n",
       "\n",
       "    .dataframe thead th {\n",
       "        text-align: right;\n",
       "    }\n",
       "</style>\n",
       "<table border=\"1\" class=\"dataframe\">\n",
       "  <thead>\n",
       "    <tr style=\"text-align: right;\">\n",
       "      <th></th>\n",
       "      <th>predicted_24h_later_load</th>\n",
       "    </tr>\n",
       "  </thead>\n",
       "  <tbody>\n",
       "    <tr>\n",
       "      <th>2024-09-30 11:00:00+02:00</th>\n",
       "      <td>7368.733462</td>\n",
       "    </tr>\n",
       "    <tr>\n",
       "      <th>2024-09-30 12:00:00+02:00</th>\n",
       "      <td>7750.765244</td>\n",
       "    </tr>\n",
       "    <tr>\n",
       "      <th>2024-09-30 13:00:00+02:00</th>\n",
       "      <td>7479.699817</td>\n",
       "    </tr>\n",
       "    <tr>\n",
       "      <th>2024-09-30 15:00:00+02:00</th>\n",
       "      <td>7331.156034</td>\n",
       "    </tr>\n",
       "    <tr>\n",
       "      <th>2024-09-30 16:00:00+02:00</th>\n",
       "      <td>7139.646868</td>\n",
       "    </tr>\n",
       "    <tr>\n",
       "      <th>2024-09-30 17:00:00+02:00</th>\n",
       "      <td>7030.107442</td>\n",
       "    </tr>\n",
       "    <tr>\n",
       "      <th>2024-09-30 18:00:00+02:00</th>\n",
       "      <td>6935.637985</td>\n",
       "    </tr>\n",
       "    <tr>\n",
       "      <th>2024-09-30 19:00:00+02:00</th>\n",
       "      <td>6916.042654</td>\n",
       "    </tr>\n",
       "    <tr>\n",
       "      <th>2024-09-30 20:00:00+02:00</th>\n",
       "      <td>6769.008453</td>\n",
       "    </tr>\n",
       "    <tr>\n",
       "      <th>2024-09-30 21:00:00+02:00</th>\n",
       "      <td>6633.849647</td>\n",
       "    </tr>\n",
       "    <tr>\n",
       "      <th>2024-09-30 22:00:00+02:00</th>\n",
       "      <td>6302.293807</td>\n",
       "    </tr>\n",
       "    <tr>\n",
       "      <th>2024-09-30 23:00:00+02:00</th>\n",
       "      <td>6389.549837</td>\n",
       "    </tr>\n",
       "    <tr>\n",
       "      <th>2024-10-01 00:00:00+02:00</th>\n",
       "      <td>6151.489531</td>\n",
       "    </tr>\n",
       "    <tr>\n",
       "      <th>2024-10-01 01:00:00+02:00</th>\n",
       "      <td>6788.934827</td>\n",
       "    </tr>\n",
       "    <tr>\n",
       "      <th>2024-10-01 02:00:00+02:00</th>\n",
       "      <td>6296.324156</td>\n",
       "    </tr>\n",
       "  </tbody>\n",
       "</table>\n",
       "</div>"
      ],
      "text/plain": [
       "                           predicted_24h_later_load\n",
       "2024-09-30 11:00:00+02:00               7368.733462\n",
       "2024-09-30 12:00:00+02:00               7750.765244\n",
       "2024-09-30 13:00:00+02:00               7479.699817\n",
       "2024-09-30 15:00:00+02:00               7331.156034\n",
       "2024-09-30 16:00:00+02:00               7139.646868\n",
       "2024-09-30 17:00:00+02:00               7030.107442\n",
       "2024-09-30 18:00:00+02:00               6935.637985\n",
       "2024-09-30 19:00:00+02:00               6916.042654\n",
       "2024-09-30 20:00:00+02:00               6769.008453\n",
       "2024-09-30 21:00:00+02:00               6633.849647\n",
       "2024-09-30 22:00:00+02:00               6302.293807\n",
       "2024-09-30 23:00:00+02:00               6389.549837\n",
       "2024-10-01 00:00:00+02:00               6151.489531\n",
       "2024-10-01 01:00:00+02:00               6788.934827\n",
       "2024-10-01 02:00:00+02:00               6296.324156"
      ]
     },
     "execution_count": 10,
     "metadata": {},
     "output_type": "execute_result"
    }
   ],
   "source": [
    "yhat = model.predict(\n",
    "    in_df_filepath='data/gold/df.pickle', \n",
    "    out_yhat_filepath='data/yhat.pickle',\n",
    ")\n",
    "yhat"
   ]
  },
  {
   "cell_type": "code",
   "execution_count": null,
   "id": "57b0e914-5f21-450a-96a6-66b8ff18c090",
   "metadata": {},
   "outputs": [],
   "source": []
  }
 ],
 "metadata": {
  "kernelspec": {
   "display_name": "Python 3 (ipykernel)",
   "language": "python",
   "name": "python3"
  },
  "language_info": {
   "codemirror_mode": {
    "name": "ipython",
    "version": 3
   },
   "file_extension": ".py",
   "mimetype": "text/x-python",
   "name": "python",
   "nbconvert_exporter": "python",
   "pygments_lexer": "ipython3",
   "version": "3.12.5"
  }
 },
 "nbformat": 4,
 "nbformat_minor": 5
}
