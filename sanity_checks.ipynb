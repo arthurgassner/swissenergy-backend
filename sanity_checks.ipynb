{
 "cells": [
  {
   "cell_type": "code",
   "execution_count": null,
   "id": "0cd3db8f-c331-47b8-b169-6db1e83d8e69",
   "metadata": {},
   "outputs": [],
   "source": [
    "from data_prepper.data_prepper.data_loader import DataLoader\n",
    "from data_prepper.data_prepper.data_cleaner import DataCleaner\n",
    "from data_prepper.data_prepper.feature_extractor import FeatureExtractor\n",
    "from model_server.model_server.model import Model"
   ]
  },
  {
   "cell_type": "code",
   "execution_count": 14,
   "id": "fedb3b34-e3c3-42f4-9744-07e0eb460268",
   "metadata": {},
   "outputs": [
    {
     "data": {
      "text/plain": [
       "True"
      ]
     },
     "execution_count": 14,
     "metadata": {},
     "output_type": "execute_result"
    }
   ],
   "source": [
    "from dotenv import load_dotenv\n",
    "import os\n",
    "load_dotenv(dotenv_path='data_prepper/data_prepper/.env')"
   ]
  },
  {
   "cell_type": "code",
   "execution_count": 18,
   "id": "bc767a09-8103-4f58-82f3-7d46f400806c",
   "metadata": {},
   "outputs": [],
   "source": [
    "data_loader = DataLoader(entsoe_api_key=os.getenv('ENTSOE_API_KEY'))\n",
    "data_loader.update_df(out_df_filepath=\"data/bronze/df.parquet\")"
   ]
  },
  {
   "cell_type": "code",
   "execution_count": 19,
   "id": "794a96c4-1f4c-4ae1-a70f-4545e2da9a5f",
   "metadata": {},
   "outputs": [],
   "source": [
    "DataCleaner.clean(\n",
    "    in_df_filepath='data/bronze/df.parquet',\n",
    "    out_df_filepath='data/silver/df.parquet',\n",
    ")"
   ]
  },
  {
   "cell_type": "code",
   "execution_count": null,
   "id": "1f760fcb-1b67-48c5-adbb-863700a3c4c4",
   "metadata": {},
   "outputs": [],
   "source": [
    "FeatureExtractor.extract_features(\n",
    "    in_df_filepath='data/silver/df.parquet',\n",
    "    out_df_filepath='data/gold/df.parquet',\n",
    ")"
   ]
  },
  {
   "cell_type": "code",
   "execution_count": null,
   "id": "a29c0ade-f689-4a4a-b7b9-707514cc5733",
   "metadata": {},
   "outputs": [],
   "source": [
    "model = Model(model_filepath='data/model.joblib')\n",
    "model.train(Xy_filepath='data/gold/df.parquet', n_estimators=100)"
   ]
  },
  {
   "cell_type": "code",
   "execution_count": null,
   "id": "51087f09-d72f-4b76-9683-34e0b082c81c",
   "metadata": {},
   "outputs": [],
   "source": [
    "_, mape = model.backtest(\n",
    "    Xy_filepath='data/gold/df.parquet',\n",
    "    starting_ts=pd.Timestamp(datetime.now() - pd.Timedelta(30, 'd'), tz='Europe/Zurich'),\n",
    "    use_every_nth_ts=100,\n",
    ")\n",
    "print(f'Backtested MAPE: {mape:.2f}%')"
   ]
  },
  {
   "cell_type": "code",
   "execution_count": null,
   "id": "9a7792a8-5972-4a79-bb5a-6fd421fcba5f",
   "metadata": {},
   "outputs": [],
   "source": []
  },
  {
   "cell_type": "code",
   "execution_count": 10,
   "id": "5f285d11-4959-414a-a780-14553d947a50",
   "metadata": {},
   "outputs": [
    {
     "name": "stderr",
     "output_type": "stream",
     "text": [
      "100%|███████████████████████████████████████████| 70/70 [00:19<00:00,  3.59it/s]"
     ]
    },
    {
     "name": "stdout",
     "output_type": "stream",
     "text": [
      "Backtested MAPE: 5.91%\n"
     ]
    },
    {
     "name": "stderr",
     "output_type": "stream",
     "text": [
      "\n"
     ]
    }
   ],
   "source": [
    "reg = lgb.LGBMRegressor(n_estimators=100, force_row_wise=True, verbose=0)\n",
    "results_df, mape = ModelTrainer.backtest(\n",
    "    Xy_filepath='data/gold/df.parquet',\n",
    "    model=reg,\n",
    "    starting_ts=pd.Timestamp(datetime.now() - pd.Timedelta(30, 'd'), tz='Europe/Zurich'),\n",
    "    use_every_nth_ts=10,\n",
    ")\n",
    "joblib.dump(reg, 'model.joblib')\n",
    "print(f'Backtested MAPE: {mape:.2f}%')"
   ]
  },
  {
   "cell_type": "code",
   "execution_count": 11,
   "id": "a73d6d58-460d-4cef-95a5-ccbfc264c3dc",
   "metadata": {},
   "outputs": [
    {
     "data": {
      "text/html": [
       "<div>\n",
       "<style scoped>\n",
       "    .dataframe tbody tr th:only-of-type {\n",
       "        vertical-align: middle;\n",
       "    }\n",
       "\n",
       "    .dataframe tbody tr th {\n",
       "        vertical-align: top;\n",
       "    }\n",
       "\n",
       "    .dataframe thead th {\n",
       "        text-align: right;\n",
       "    }\n",
       "</style>\n",
       "<table border=\"1\" class=\"dataframe\">\n",
       "  <thead>\n",
       "    <tr style=\"text-align: right;\">\n",
       "      <th></th>\n",
       "      <th>predicted_24h_later_load</th>\n",
       "    </tr>\n",
       "  </thead>\n",
       "  <tbody>\n",
       "    <tr>\n",
       "      <th>2024-09-27 11:00:00+02:00</th>\n",
       "      <td>6914.421935</td>\n",
       "    </tr>\n",
       "    <tr>\n",
       "      <th>2024-09-27 12:00:00+02:00</th>\n",
       "      <td>7051.178301</td>\n",
       "    </tr>\n",
       "    <tr>\n",
       "      <th>2024-09-27 13:00:00+02:00</th>\n",
       "      <td>6988.637273</td>\n",
       "    </tr>\n",
       "  </tbody>\n",
       "</table>\n",
       "</div>"
      ],
      "text/plain": [
       "                           predicted_24h_later_load\n",
       "2024-09-27 11:00:00+02:00               6914.421935\n",
       "2024-09-27 12:00:00+02:00               7051.178301\n",
       "2024-09-27 13:00:00+02:00               6988.637273"
      ]
     },
     "execution_count": 11,
     "metadata": {},
     "output_type": "execute_result"
    }
   ],
   "source": [
    "inferencer = Inferencer(model_filepath='model.joblib')\n",
    "yhat = inferencer.predict(in_df_filepath='data/gold/df.parquet')\n",
    "yhat.head(3)"
   ]
  },
  {
   "cell_type": "code",
   "execution_count": null,
   "id": "57b0e914-5f21-450a-96a6-66b8ff18c090",
   "metadata": {},
   "outputs": [],
   "source": []
  }
 ],
 "metadata": {
  "kernelspec": {
   "display_name": "Python 3 (ipykernel)",
   "language": "python",
   "name": "python3"
  },
  "language_info": {
   "codemirror_mode": {
    "name": "ipython",
    "version": 3
   },
   "file_extension": ".py",
   "mimetype": "text/x-python",
   "name": "python",
   "nbconvert_exporter": "python",
   "pygments_lexer": "ipython3",
   "version": "3.12.5"
  }
 },
 "nbformat": 4,
 "nbformat_minor": 5
}
