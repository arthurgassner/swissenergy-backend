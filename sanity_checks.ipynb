{
 "cells": [
  {
   "cell_type": "code",
   "execution_count": 31,
   "id": "0cd3db8f-c331-47b8-b169-6db1e83d8e69",
   "metadata": {},
   "outputs": [],
   "source": [
    "from model_server.model_server.data_loader import DataLoader\n",
    "from model_server.model_server.data_cleaner import DataCleaner\n",
    "from model_server.model_server.feature_extractor import FeatureExtractor\n",
    "from model_server.model_server.model import Model"
   ]
  },
  {
   "cell_type": "code",
   "execution_count": 32,
   "id": "fedb3b34-e3c3-42f4-9744-07e0eb460268",
   "metadata": {},
   "outputs": [
    {
     "data": {
      "text/plain": [
       "True"
      ]
     },
     "execution_count": 32,
     "metadata": {},
     "output_type": "execute_result"
    }
   ],
   "source": [
    "from dotenv import load_dotenv\n",
    "import os\n",
    "load_dotenv(dotenv_path='model_server/model_server/.env')"
   ]
  },
  {
   "cell_type": "code",
   "execution_count": 33,
   "id": "bc767a09-8103-4f58-82f3-7d46f400806c",
   "metadata": {},
   "outputs": [],
   "source": [
    "data_loader = DataLoader(entsoe_api_key=os.getenv('ENTSOE_API_KEY'))\n",
    "data_loader.update_df(out_df_filepath=\"data/bronze/df.parquet\")"
   ]
  },
  {
   "cell_type": "code",
   "execution_count": 34,
   "id": "794a96c4-1f4c-4ae1-a70f-4545e2da9a5f",
   "metadata": {},
   "outputs": [],
   "source": [
    "DataCleaner.clean(\n",
    "    in_df_filepath='data/bronze/df.parquet',\n",
    "    out_df_filepath='data/silver/df.parquet',\n",
    ")"
   ]
  },
  {
   "cell_type": "code",
   "execution_count": 35,
   "id": "1f760fcb-1b67-48c5-adbb-863700a3c4c4",
   "metadata": {},
   "outputs": [],
   "source": [
    "FeatureExtractor.extract_features(\n",
    "    in_df_filepath='data/silver/df.parquet',\n",
    "    out_df_filepath='data/gold/df.parquet',\n",
    ")"
   ]
  },
  {
   "cell_type": "code",
   "execution_count": 36,
   "id": "a29c0ade-f689-4a4a-b7b9-707514cc5733",
   "metadata": {},
   "outputs": [],
   "source": [
    "model = Model(model_filepath='data/model.joblib')\n",
    "model.train(Xy_filepath='data/gold/df.parquet', n_estimators=100)"
   ]
  },
  {
   "cell_type": "code",
   "execution_count": 37,
   "id": "51087f09-d72f-4b76-9683-34e0b082c81c",
   "metadata": {},
   "outputs": [
    {
     "name": "stderr",
     "output_type": "stream",
     "text": [
      "100%|█████████████████████████████████████████████████████████████████████████████████████████████████████████| 7/7 [00:02<00:00,  3.20it/s]"
     ]
    },
    {
     "name": "stdout",
     "output_type": "stream",
     "text": [
      "Backtested MAPE: 5.04%\n"
     ]
    },
    {
     "name": "stderr",
     "output_type": "stream",
     "text": [
      "\n"
     ]
    }
   ],
   "source": [
    "_, mape = model.backtest(\n",
    "    Xy_filepath='data/gold/df.parquet',\n",
    "    starting_ts=pd.Timestamp(datetime.now() - pd.Timedelta(30, 'd'), tz='Europe/Zurich'),\n",
    "    use_every_nth_ts=100,\n",
    ")\n",
    "print(f'Backtested MAPE: {mape:.2f}%')"
   ]
  },
  {
   "cell_type": "code",
   "execution_count": 39,
   "id": "9a7792a8-5972-4a79-bb5a-6fd421fcba5f",
   "metadata": {},
   "outputs": [
    {
     "data": {
      "text/html": [
       "<div>\n",
       "<style scoped>\n",
       "    .dataframe tbody tr th:only-of-type {\n",
       "        vertical-align: middle;\n",
       "    }\n",
       "\n",
       "    .dataframe tbody tr th {\n",
       "        vertical-align: top;\n",
       "    }\n",
       "\n",
       "    .dataframe thead th {\n",
       "        text-align: right;\n",
       "    }\n",
       "</style>\n",
       "<table border=\"1\" class=\"dataframe\">\n",
       "  <thead>\n",
       "    <tr style=\"text-align: right;\">\n",
       "      <th></th>\n",
       "      <th>predicted_24h_later_load</th>\n",
       "    </tr>\n",
       "  </thead>\n",
       "  <tbody>\n",
       "    <tr>\n",
       "      <th>2024-09-27 19:00:00+02:00</th>\n",
       "      <td>6474.173239</td>\n",
       "    </tr>\n",
       "    <tr>\n",
       "      <th>2024-09-27 20:00:00+02:00</th>\n",
       "      <td>6224.201867</td>\n",
       "    </tr>\n",
       "    <tr>\n",
       "      <th>2024-09-27 21:00:00+02:00</th>\n",
       "      <td>6062.327307</td>\n",
       "    </tr>\n",
       "    <tr>\n",
       "      <th>2024-09-27 22:00:00+02:00</th>\n",
       "      <td>6147.052759</td>\n",
       "    </tr>\n",
       "    <tr>\n",
       "      <th>2024-09-27 23:00:00+02:00</th>\n",
       "      <td>6333.368725</td>\n",
       "    </tr>\n",
       "    <tr>\n",
       "      <th>2024-09-28 00:00:00+02:00</th>\n",
       "      <td>6214.023296</td>\n",
       "    </tr>\n",
       "    <tr>\n",
       "      <th>2024-09-28 01:00:00+02:00</th>\n",
       "      <td>6042.244918</td>\n",
       "    </tr>\n",
       "    <tr>\n",
       "      <th>2024-09-28 02:00:00+02:00</th>\n",
       "      <td>6306.203754</td>\n",
       "    </tr>\n",
       "    <tr>\n",
       "      <th>2024-09-28 03:00:00+02:00</th>\n",
       "      <td>6188.901375</td>\n",
       "    </tr>\n",
       "    <tr>\n",
       "      <th>2024-09-28 04:00:00+02:00</th>\n",
       "      <td>5614.965050</td>\n",
       "    </tr>\n",
       "    <tr>\n",
       "      <th>2024-09-28 05:00:00+02:00</th>\n",
       "      <td>6298.707350</td>\n",
       "    </tr>\n",
       "    <tr>\n",
       "      <th>2024-09-28 06:00:00+02:00</th>\n",
       "      <td>5882.402482</td>\n",
       "    </tr>\n",
       "    <tr>\n",
       "      <th>2024-09-28 07:00:00+02:00</th>\n",
       "      <td>5920.536211</td>\n",
       "    </tr>\n",
       "    <tr>\n",
       "      <th>2024-09-28 08:00:00+02:00</th>\n",
       "      <td>6310.341732</td>\n",
       "    </tr>\n",
       "    <tr>\n",
       "      <th>2024-09-28 09:00:00+02:00</th>\n",
       "      <td>6533.753105</td>\n",
       "    </tr>\n",
       "    <tr>\n",
       "      <th>2024-09-28 10:00:00+02:00</th>\n",
       "      <td>6851.480557</td>\n",
       "    </tr>\n",
       "    <tr>\n",
       "      <th>2024-09-28 11:00:00+02:00</th>\n",
       "      <td>7082.226728</td>\n",
       "    </tr>\n",
       "    <tr>\n",
       "      <th>2024-09-28 12:00:00+02:00</th>\n",
       "      <td>6783.245149</td>\n",
       "    </tr>\n",
       "    <tr>\n",
       "      <th>2024-09-28 13:00:00+02:00</th>\n",
       "      <td>7037.182649</td>\n",
       "    </tr>\n",
       "    <tr>\n",
       "      <th>2024-09-28 14:00:00+02:00</th>\n",
       "      <td>6819.071375</td>\n",
       "    </tr>\n",
       "    <tr>\n",
       "      <th>2024-09-28 15:00:00+02:00</th>\n",
       "      <td>6679.519435</td>\n",
       "    </tr>\n",
       "    <tr>\n",
       "      <th>2024-09-28 16:00:00+02:00</th>\n",
       "      <td>6863.483619</td>\n",
       "    </tr>\n",
       "    <tr>\n",
       "      <th>2024-09-28 17:00:00+02:00</th>\n",
       "      <td>6274.836364</td>\n",
       "    </tr>\n",
       "    <tr>\n",
       "      <th>2024-09-28 18:00:00+02:00</th>\n",
       "      <td>6618.382826</td>\n",
       "    </tr>\n",
       "  </tbody>\n",
       "</table>\n",
       "</div>"
      ],
      "text/plain": [
       "                           predicted_24h_later_load\n",
       "2024-09-27 19:00:00+02:00               6474.173239\n",
       "2024-09-27 20:00:00+02:00               6224.201867\n",
       "2024-09-27 21:00:00+02:00               6062.327307\n",
       "2024-09-27 22:00:00+02:00               6147.052759\n",
       "2024-09-27 23:00:00+02:00               6333.368725\n",
       "2024-09-28 00:00:00+02:00               6214.023296\n",
       "2024-09-28 01:00:00+02:00               6042.244918\n",
       "2024-09-28 02:00:00+02:00               6306.203754\n",
       "2024-09-28 03:00:00+02:00               6188.901375\n",
       "2024-09-28 04:00:00+02:00               5614.965050\n",
       "2024-09-28 05:00:00+02:00               6298.707350\n",
       "2024-09-28 06:00:00+02:00               5882.402482\n",
       "2024-09-28 07:00:00+02:00               5920.536211\n",
       "2024-09-28 08:00:00+02:00               6310.341732\n",
       "2024-09-28 09:00:00+02:00               6533.753105\n",
       "2024-09-28 10:00:00+02:00               6851.480557\n",
       "2024-09-28 11:00:00+02:00               7082.226728\n",
       "2024-09-28 12:00:00+02:00               6783.245149\n",
       "2024-09-28 13:00:00+02:00               7037.182649\n",
       "2024-09-28 14:00:00+02:00               6819.071375\n",
       "2024-09-28 15:00:00+02:00               6679.519435\n",
       "2024-09-28 16:00:00+02:00               6863.483619\n",
       "2024-09-28 17:00:00+02:00               6274.836364\n",
       "2024-09-28 18:00:00+02:00               6618.382826"
      ]
     },
     "execution_count": 39,
     "metadata": {},
     "output_type": "execute_result"
    }
   ],
   "source": [
    "yhat = model.predict(\n",
    "    in_df_filepath='data/gold/df.parquet', \n",
    "    out_yhat_filepath='data/yhat.parquet',\n",
    ")\n",
    "yhat"
   ]
  },
  {
   "cell_type": "code",
   "execution_count": null,
   "id": "57b0e914-5f21-450a-96a6-66b8ff18c090",
   "metadata": {},
   "outputs": [],
   "source": []
  }
 ],
 "metadata": {
  "kernelspec": {
   "display_name": "Python 3 (ipykernel)",
   "language": "python",
   "name": "python3"
  },
  "language_info": {
   "codemirror_mode": {
    "name": "ipython",
    "version": 3
   },
   "file_extension": ".py",
   "mimetype": "text/x-python",
   "name": "python",
   "nbconvert_exporter": "python",
   "pygments_lexer": "ipython3",
   "version": "3.12.5"
  }
 },
 "nbformat": 4,
 "nbformat_minor": 5
}
