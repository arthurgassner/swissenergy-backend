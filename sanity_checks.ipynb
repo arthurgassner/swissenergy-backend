{
 "cells": [
  {
   "cell_type": "code",
   "execution_count": 21,
   "id": "0cd3db8f-c331-47b8-b169-6db1e83d8e69",
   "metadata": {},
   "outputs": [],
   "source": [
    "from data_prepper.data_prepper.data_loader import DataLoader\n",
    "from data_prepper.data_prepper.data_cleaner import DataCleaner\n",
    "from data_prepper.data_prepper.feature_extractor import FeatureExtractor\n",
    "from model_server.model_server.model import Model"
   ]
  },
  {
   "cell_type": "code",
   "execution_count": 14,
   "id": "fedb3b34-e3c3-42f4-9744-07e0eb460268",
   "metadata": {},
   "outputs": [
    {
     "data": {
      "text/plain": [
       "True"
      ]
     },
     "execution_count": 14,
     "metadata": {},
     "output_type": "execute_result"
    }
   ],
   "source": [
    "from dotenv import load_dotenv\n",
    "import os\n",
    "load_dotenv(dotenv_path='data_prepper/data_prepper/.env')"
   ]
  },
  {
   "cell_type": "code",
   "execution_count": 18,
   "id": "bc767a09-8103-4f58-82f3-7d46f400806c",
   "metadata": {},
   "outputs": [],
   "source": [
    "data_loader = DataLoader(entsoe_api_key=os.getenv('ENTSOE_API_KEY'))\n",
    "data_loader.update_df(out_df_filepath=\"data/bronze/df.parquet\")"
   ]
  },
  {
   "cell_type": "code",
   "execution_count": 19,
   "id": "794a96c4-1f4c-4ae1-a70f-4545e2da9a5f",
   "metadata": {},
   "outputs": [],
   "source": [
    "DataCleaner.clean(\n",
    "    in_df_filepath='data/bronze/df.parquet',\n",
    "    out_df_filepath='data/silver/df.parquet',\n",
    ")"
   ]
  },
  {
   "cell_type": "code",
   "execution_count": 20,
   "id": "1f760fcb-1b67-48c5-adbb-863700a3c4c4",
   "metadata": {},
   "outputs": [],
   "source": [
    "FeatureExtractor.extract_features(\n",
    "    in_df_filepath='data/silver/df.parquet',\n",
    "    out_df_filepath='data/gold/df.parquet',\n",
    ")"
   ]
  },
  {
   "cell_type": "code",
   "execution_count": 22,
   "id": "a29c0ade-f689-4a4a-b7b9-707514cc5733",
   "metadata": {},
   "outputs": [],
   "source": [
    "model = Model(model_filepath='data/model.joblib')\n",
    "model.train(Xy_filepath='data/gold/df.parquet', n_estimators=100)"
   ]
  },
  {
   "cell_type": "code",
   "execution_count": 23,
   "id": "51087f09-d72f-4b76-9683-34e0b082c81c",
   "metadata": {},
   "outputs": [
    {
     "name": "stderr",
     "output_type": "stream",
     "text": [
      "100%|█████████████████████████████████████████████████████████████████████████████████████████████████████████| 7/7 [00:02<00:00,  3.49it/s]"
     ]
    },
    {
     "name": "stdout",
     "output_type": "stream",
     "text": [
      "Backtested MAPE: 4.18%\n"
     ]
    },
    {
     "name": "stderr",
     "output_type": "stream",
     "text": [
      "\n"
     ]
    }
   ],
   "source": [
    "_, mape = model.backtest(\n",
    "    Xy_filepath='data/gold/df.parquet',\n",
    "    starting_ts=pd.Timestamp(datetime.now() - pd.Timedelta(30, 'd'), tz='Europe/Zurich'),\n",
    "    use_every_nth_ts=100,\n",
    ")\n",
    "print(f'Backtested MAPE: {mape:.2f}%')"
   ]
  },
  {
   "cell_type": "code",
   "execution_count": 25,
   "id": "9a7792a8-5972-4a79-bb5a-6fd421fcba5f",
   "metadata": {},
   "outputs": [
    {
     "data": {
      "text/html": [
       "<div>\n",
       "<style scoped>\n",
       "    .dataframe tbody tr th:only-of-type {\n",
       "        vertical-align: middle;\n",
       "    }\n",
       "\n",
       "    .dataframe tbody tr th {\n",
       "        vertical-align: top;\n",
       "    }\n",
       "\n",
       "    .dataframe thead th {\n",
       "        text-align: right;\n",
       "    }\n",
       "</style>\n",
       "<table border=\"1\" class=\"dataframe\">\n",
       "  <thead>\n",
       "    <tr style=\"text-align: right;\">\n",
       "      <th></th>\n",
       "      <th>predicted_24h_later_load</th>\n",
       "    </tr>\n",
       "  </thead>\n",
       "  <tbody>\n",
       "    <tr>\n",
       "      <th>2024-09-27 18:00:00+02:00</th>\n",
       "      <td>6672.633563</td>\n",
       "    </tr>\n",
       "    <tr>\n",
       "      <th>2024-09-27 19:00:00+02:00</th>\n",
       "      <td>6511.261499</td>\n",
       "    </tr>\n",
       "    <tr>\n",
       "      <th>2024-09-27 20:00:00+02:00</th>\n",
       "      <td>6297.196678</td>\n",
       "    </tr>\n",
       "    <tr>\n",
       "      <th>2024-09-27 21:00:00+02:00</th>\n",
       "      <td>6110.025362</td>\n",
       "    </tr>\n",
       "    <tr>\n",
       "      <th>2024-09-27 22:00:00+02:00</th>\n",
       "      <td>6218.520549</td>\n",
       "    </tr>\n",
       "    <tr>\n",
       "      <th>2024-09-27 23:00:00+02:00</th>\n",
       "      <td>6354.674976</td>\n",
       "    </tr>\n",
       "    <tr>\n",
       "      <th>2024-09-28 00:00:00+02:00</th>\n",
       "      <td>6367.178564</td>\n",
       "    </tr>\n",
       "    <tr>\n",
       "      <th>2024-09-28 01:00:00+02:00</th>\n",
       "      <td>6071.316424</td>\n",
       "    </tr>\n",
       "    <tr>\n",
       "      <th>2024-09-28 02:00:00+02:00</th>\n",
       "      <td>6324.902551</td>\n",
       "    </tr>\n",
       "    <tr>\n",
       "      <th>2024-09-28 03:00:00+02:00</th>\n",
       "      <td>6185.830541</td>\n",
       "    </tr>\n",
       "    <tr>\n",
       "      <th>2024-09-28 04:00:00+02:00</th>\n",
       "      <td>5611.331816</td>\n",
       "    </tr>\n",
       "    <tr>\n",
       "      <th>2024-09-28 05:00:00+02:00</th>\n",
       "      <td>6278.349161</td>\n",
       "    </tr>\n",
       "    <tr>\n",
       "      <th>2024-09-28 06:00:00+02:00</th>\n",
       "      <td>5857.253481</td>\n",
       "    </tr>\n",
       "    <tr>\n",
       "      <th>2024-09-28 07:00:00+02:00</th>\n",
       "      <td>5874.092409</td>\n",
       "    </tr>\n",
       "    <tr>\n",
       "      <th>2024-09-28 08:00:00+02:00</th>\n",
       "      <td>6286.311725</td>\n",
       "    </tr>\n",
       "    <tr>\n",
       "      <th>2024-09-28 09:00:00+02:00</th>\n",
       "      <td>6478.772028</td>\n",
       "    </tr>\n",
       "    <tr>\n",
       "      <th>2024-09-28 10:00:00+02:00</th>\n",
       "      <td>6827.206743</td>\n",
       "    </tr>\n",
       "    <tr>\n",
       "      <th>2024-09-28 11:00:00+02:00</th>\n",
       "      <td>7041.949537</td>\n",
       "    </tr>\n",
       "    <tr>\n",
       "      <th>2024-09-28 12:00:00+02:00</th>\n",
       "      <td>6744.793978</td>\n",
       "    </tr>\n",
       "    <tr>\n",
       "      <th>2024-09-28 13:00:00+02:00</th>\n",
       "      <td>6956.096954</td>\n",
       "    </tr>\n",
       "    <tr>\n",
       "      <th>2024-09-28 14:00:00+02:00</th>\n",
       "      <td>6775.529504</td>\n",
       "    </tr>\n",
       "    <tr>\n",
       "      <th>2024-09-28 15:00:00+02:00</th>\n",
       "      <td>6664.336123</td>\n",
       "    </tr>\n",
       "    <tr>\n",
       "      <th>2024-09-28 16:00:00+02:00</th>\n",
       "      <td>6801.846027</td>\n",
       "    </tr>\n",
       "    <tr>\n",
       "      <th>2024-09-28 17:00:00+02:00</th>\n",
       "      <td>6274.387905</td>\n",
       "    </tr>\n",
       "  </tbody>\n",
       "</table>\n",
       "</div>"
      ],
      "text/plain": [
       "                           predicted_24h_later_load\n",
       "2024-09-27 18:00:00+02:00               6672.633563\n",
       "2024-09-27 19:00:00+02:00               6511.261499\n",
       "2024-09-27 20:00:00+02:00               6297.196678\n",
       "2024-09-27 21:00:00+02:00               6110.025362\n",
       "2024-09-27 22:00:00+02:00               6218.520549\n",
       "2024-09-27 23:00:00+02:00               6354.674976\n",
       "2024-09-28 00:00:00+02:00               6367.178564\n",
       "2024-09-28 01:00:00+02:00               6071.316424\n",
       "2024-09-28 02:00:00+02:00               6324.902551\n",
       "2024-09-28 03:00:00+02:00               6185.830541\n",
       "2024-09-28 04:00:00+02:00               5611.331816\n",
       "2024-09-28 05:00:00+02:00               6278.349161\n",
       "2024-09-28 06:00:00+02:00               5857.253481\n",
       "2024-09-28 07:00:00+02:00               5874.092409\n",
       "2024-09-28 08:00:00+02:00               6286.311725\n",
       "2024-09-28 09:00:00+02:00               6478.772028\n",
       "2024-09-28 10:00:00+02:00               6827.206743\n",
       "2024-09-28 11:00:00+02:00               7041.949537\n",
       "2024-09-28 12:00:00+02:00               6744.793978\n",
       "2024-09-28 13:00:00+02:00               6956.096954\n",
       "2024-09-28 14:00:00+02:00               6775.529504\n",
       "2024-09-28 15:00:00+02:00               6664.336123\n",
       "2024-09-28 16:00:00+02:00               6801.846027\n",
       "2024-09-28 17:00:00+02:00               6274.387905"
      ]
     },
     "execution_count": 25,
     "metadata": {},
     "output_type": "execute_result"
    }
   ],
   "source": [
    "yhat = model.predict(\n",
    "    in_df_filepath='data/gold/df.parquet', \n",
    "    out_yhat_filepath='data/yhat.parquet',\n",
    ")\n",
    "yhat"
   ]
  },
  {
   "cell_type": "code",
   "execution_count": null,
   "id": "57b0e914-5f21-450a-96a6-66b8ff18c090",
   "metadata": {},
   "outputs": [],
   "source": []
  }
 ],
 "metadata": {
  "kernelspec": {
   "display_name": "Python 3 (ipykernel)",
   "language": "python",
   "name": "python3"
  },
  "language_info": {
   "codemirror_mode": {
    "name": "ipython",
    "version": 3
   },
   "file_extension": ".py",
   "mimetype": "text/x-python",
   "name": "python",
   "nbconvert_exporter": "python",
   "pygments_lexer": "ipython3",
   "version": "3.12.5"
  }
 },
 "nbformat": 4,
 "nbformat_minor": 5
}
